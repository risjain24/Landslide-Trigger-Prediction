{
  "cells": [
    {
      "cell_type": "markdown",
      "metadata": {
        "id": "view-in-github",
        "colab_type": "text"
      },
      "source": [
        "<a href=\"https://colab.research.google.com/github/risjain24/Landslide-Trigger-Prediction/blob/main/Landslides.ipynb\" target=\"_parent\"><img src=\"https://colab.research.google.com/assets/colab-badge.svg\" alt=\"Open In Colab\"/></a>"
      ]
    },
    {
      "cell_type": "markdown",
      "source": [
        "# IMPORTING DATASET\n",
        "\n",
        "Dataset Source https://data.wprdc.org/"
      ],
      "metadata": {
        "id": "auFeRwuQa5GS"
      },
      "id": "auFeRwuQa5GS"
    },
    {
      "cell_type": "code",
      "execution_count": null,
      "id": "627b7be5",
      "metadata": {
        "id": "627b7be5"
      },
      "outputs": [],
      "source": [
        "import pandas as pd\n",
        "temp_df = pd.read_csv(\"Desktop\\MiniProject\\landslides.csv\")"
      ]
    },
    {
      "cell_type": "code",
      "execution_count": null,
      "id": "97141983",
      "metadata": {
        "scrolled": false,
        "id": "97141983",
        "outputId": "ab67a819-34f2-4b38-be77-e5f930769744"
      },
      "outputs": [
        {
          "data": {
            "text/html": [
              "<div>\n",
              "<style scoped>\n",
              "    .dataframe tbody tr th:only-of-type {\n",
              "        vertical-align: middle;\n",
              "    }\n",
              "\n",
              "    .dataframe tbody tr th {\n",
              "        vertical-align: top;\n",
              "    }\n",
              "\n",
              "    .dataframe thead th {\n",
              "        text-align: right;\n",
              "    }\n",
              "</style>\n",
              "<table border=\"1\" class=\"dataframe\">\n",
              "  <thead>\n",
              "    <tr style=\"text-align: right;\">\n",
              "      <th></th>\n",
              "      <th>src_name</th>\n",
              "      <th>src_link</th>\n",
              "      <th>ev_id</th>\n",
              "      <th>ev_date</th>\n",
              "      <th>ev_time</th>\n",
              "      <th>ev_title</th>\n",
              "      <th>ev_desc</th>\n",
              "      <th>loc_desc</th>\n",
              "      <th>loc_accu</th>\n",
              "      <th>ls_cat</th>\n",
              "      <th>...</th>\n",
              "      <th>ev_imp_id</th>\n",
              "      <th>latitude</th>\n",
              "      <th>longitude</th>\n",
              "      <th>ctry_name</th>\n",
              "      <th>ctry_code</th>\n",
              "      <th>div_name</th>\n",
              "      <th>gaz_point</th>\n",
              "      <th>gaz_dist</th>\n",
              "      <th>sub_date</th>\n",
              "      <th>edit_date</th>\n",
              "    </tr>\n",
              "  </thead>\n",
              "  <tbody>\n",
              "    <tr>\n",
              "      <th>0</th>\n",
              "      <td>Oregon DOT</td>\n",
              "      <td>NaN</td>\n",
              "      <td>8,840</td>\n",
              "      <td>2011-01-16</td>\n",
              "      <td>16:00</td>\n",
              "      <td>OR 218, milepost 34.9</td>\n",
              "      <td>NaN</td>\n",
              "      <td>OR 218, milepost 34.9</td>\n",
              "      <td>exact</td>\n",
              "      <td>landslide</td>\n",
              "      <td>...</td>\n",
              "      <td>8840.0</td>\n",
              "      <td>44.9184</td>\n",
              "      <td>-120.2668</td>\n",
              "      <td>United States</td>\n",
              "      <td>US</td>\n",
              "      <td>Oregon</td>\n",
              "      <td>Kinzua</td>\n",
              "      <td>18.34</td>\n",
              "      <td>2016-07-08</td>\n",
              "      <td>2018-06-23</td>\n",
              "    </tr>\n",
              "    <tr>\n",
              "      <th>1</th>\n",
              "      <td>www.itv.com</td>\n",
              "      <td>http://www.itv.com/news/westcountry/2013-12-30...</td>\n",
              "      <td>5,725</td>\n",
              "      <td>2013-12-25</td>\n",
              "      <td>NaN</td>\n",
              "      <td>Calstock, Cornwall</td>\n",
              "      <td>The Army is on standby to help residents in Ca...</td>\n",
              "      <td>Calstock, Cornwall</td>\n",
              "      <td>1km</td>\n",
              "      <td>landslide</td>\n",
              "      <td>...</td>\n",
              "      <td>5725.0</td>\n",
              "      <td>50.4972</td>\n",
              "      <td>-4.2100</td>\n",
              "      <td>United Kingdom</td>\n",
              "      <td>GB</td>\n",
              "      <td>England</td>\n",
              "      <td>Plymouth</td>\n",
              "      <td>10.57</td>\n",
              "      <td>2014-04-01</td>\n",
              "      <td>2018-06-23</td>\n",
              "    </tr>\n",
              "    <tr>\n",
              "      <th>2</th>\n",
              "      <td>business-standard</td>\n",
              "      <td>http://www.business-standard.com/generalnews/n...</td>\n",
              "      <td>4,343</td>\n",
              "      <td>2012-05-01</td>\n",
              "      <td>14:00</td>\n",
              "      <td>Shennongjia, Hubei</td>\n",
              "      <td>More than 300 tourists were evacuated after a ...</td>\n",
              "      <td>Shennongjia, Hubei</td>\n",
              "      <td>25km</td>\n",
              "      <td>landslide</td>\n",
              "      <td>...</td>\n",
              "      <td>4343.0</td>\n",
              "      <td>31.7501</td>\n",
              "      <td>110.6807</td>\n",
              "      <td>China</td>\n",
              "      <td>CN</td>\n",
              "      <td>Hubei</td>\n",
              "      <td>Nan He</td>\n",
              "      <td>13.49</td>\n",
              "      <td>2014-04-01</td>\n",
              "      <td>2018-06-23</td>\n",
              "    </tr>\n",
              "    <tr>\n",
              "      <th>3</th>\n",
              "      <td>The Statesman</td>\n",
              "      <td>http://www.thestatesman.com/news/northeast/lan...</td>\n",
              "      <td>6,964</td>\n",
              "      <td>2015-06-17</td>\n",
              "      <td>NaN</td>\n",
              "      <td>National Highway 31A, Darjeeling Hills</td>\n",
              "      <td>Note: one article listed multiple landslides, ...</td>\n",
              "      <td>National Highway 31A, Darjeeling Hills</td>\n",
              "      <td>50km</td>\n",
              "      <td>landslide</td>\n",
              "      <td>...</td>\n",
              "      <td>6964.0</td>\n",
              "      <td>27.0087</td>\n",
              "      <td>88.4430</td>\n",
              "      <td>India</td>\n",
              "      <td>IN</td>\n",
              "      <td>West Bengal</td>\n",
              "      <td>Kalimpong</td>\n",
              "      <td>8.03</td>\n",
              "      <td>2015-06-25</td>\n",
              "      <td>2018-06-23</td>\n",
              "    </tr>\n",
              "    <tr>\n",
              "      <th>4</th>\n",
              "      <td>pia</td>\n",
              "      <td>http://www.pia.gov.ph/?m=12&amp;fi=p080104.htm&amp;no=10</td>\n",
              "      <td>408</td>\n",
              "      <td>2008-01-03</td>\n",
              "      <td>NaN</td>\n",
              "      <td>Pancho Villa and Kahupian villages in Sogod</td>\n",
              "      <td>very little information on the hazard</td>\n",
              "      <td>Pancho Villa and Kahupian villages in Sogod</td>\n",
              "      <td>25km</td>\n",
              "      <td>landslide</td>\n",
              "      <td>...</td>\n",
              "      <td>408.0</td>\n",
              "      <td>10.3904</td>\n",
              "      <td>124.9851</td>\n",
              "      <td>Philippines</td>\n",
              "      <td>PH</td>\n",
              "      <td>Southern Leyte</td>\n",
              "      <td>Sogod</td>\n",
              "      <td>0.07</td>\n",
              "      <td>2014-04-01</td>\n",
              "      <td>2018-06-23</td>\n",
              "    </tr>\n",
              "  </tbody>\n",
              "</table>\n",
              "<p>5 rows × 29 columns</p>\n",
              "</div>"
            ],
            "text/plain": [
              "            src_name                                           src_link  \\\n",
              "0         Oregon DOT                                                NaN   \n",
              "1        www.itv.com  http://www.itv.com/news/westcountry/2013-12-30...   \n",
              "2  business-standard  http://www.business-standard.com/generalnews/n...   \n",
              "3      The Statesman  http://www.thestatesman.com/news/northeast/lan...   \n",
              "4                pia   http://www.pia.gov.ph/?m=12&fi=p080104.htm&no=10   \n",
              "\n",
              "   ev_id     ev_date ev_time                                     ev_title  \\\n",
              "0  8,840  2011-01-16   16:00                        OR 218, milepost 34.9   \n",
              "1  5,725  2013-12-25     NaN                           Calstock, Cornwall   \n",
              "2  4,343  2012-05-01   14:00                           Shennongjia, Hubei   \n",
              "3  6,964  2015-06-17     NaN       National Highway 31A, Darjeeling Hills   \n",
              "4    408  2008-01-03     NaN  Pancho Villa and Kahupian villages in Sogod   \n",
              "\n",
              "                                             ev_desc  \\\n",
              "0                                                NaN   \n",
              "1  The Army is on standby to help residents in Ca...   \n",
              "2  More than 300 tourists were evacuated after a ...   \n",
              "3  Note: one article listed multiple landslides, ...   \n",
              "4              very little information on the hazard   \n",
              "\n",
              "                                      loc_desc loc_accu     ls_cat  ...  \\\n",
              "0                        OR 218, milepost 34.9    exact  landslide  ...   \n",
              "1                           Calstock, Cornwall      1km  landslide  ...   \n",
              "2                           Shennongjia, Hubei     25km  landslide  ...   \n",
              "3       National Highway 31A, Darjeeling Hills     50km  landslide  ...   \n",
              "4  Pancho Villa and Kahupian villages in Sogod     25km  landslide  ...   \n",
              "\n",
              "  ev_imp_id latitude longitude       ctry_name  ctry_code        div_name  \\\n",
              "0    8840.0  44.9184 -120.2668   United States         US          Oregon   \n",
              "1    5725.0  50.4972   -4.2100  United Kingdom         GB         England   \n",
              "2    4343.0  31.7501  110.6807           China         CN           Hubei   \n",
              "3    6964.0  27.0087   88.4430           India         IN     West Bengal   \n",
              "4     408.0  10.3904  124.9851     Philippines         PH  Southern Leyte   \n",
              "\n",
              "   gaz_point gaz_dist    sub_date   edit_date  \n",
              "0     Kinzua    18.34  2016-07-08  2018-06-23  \n",
              "1   Plymouth    10.57  2014-04-01  2018-06-23  \n",
              "2     Nan He    13.49  2014-04-01  2018-06-23  \n",
              "3  Kalimpong     8.03  2015-06-25  2018-06-23  \n",
              "4      Sogod     0.07  2014-04-01  2018-06-23  \n",
              "\n",
              "[5 rows x 29 columns]"
            ]
          },
          "execution_count": 71,
          "metadata": {},
          "output_type": "execute_result"
        }
      ],
      "source": [
        "df = temp_df\n",
        "df.head()"
      ]
    },
    {
      "cell_type": "markdown",
      "source": [
        "# DATA CLEANING"
      ],
      "metadata": {
        "id": "qn04TgIjefb8"
      },
      "id": "qn04TgIjefb8"
    },
    {
      "cell_type": "code",
      "execution_count": null,
      "id": "2d35eed1",
      "metadata": {
        "id": "2d35eed1",
        "outputId": "5ed95d6f-c9cd-464f-9e4a-8bc717eb860a"
      },
      "outputs": [
        {
          "data": {
            "text/plain": [
              "src_name          0\n",
              "src_link        808\n",
              "ev_id             0\n",
              "ev_date           0\n",
              "ev_time        6179\n",
              "ev_title          1\n",
              "ev_desc         864\n",
              "loc_desc        100\n",
              "loc_accu          2\n",
              "ls_cat            2\n",
              "ls_trig          33\n",
              "ls_size          10\n",
              "ls_setting       79\n",
              "fatalities        0\n",
              "injuries          0\n",
              "storm_name    10761\n",
              "photo_link     9665\n",
              "comments      10973\n",
              "ev_imp_src        0\n",
              "ev_imp_id      1868\n",
              "latitude          0\n",
              "longitude         0\n",
              "ctry_name        40\n",
              "ctry_code        42\n",
              "div_name         40\n",
              "gaz_point         0\n",
              "gaz_dist          0\n",
              "sub_date          9\n",
              "edit_date         0\n",
              "dtype: int64"
            ]
          },
          "execution_count": 72,
          "metadata": {},
          "output_type": "execute_result"
        }
      ],
      "source": [
        "df.isnull().sum()"
      ]
    },
    {
      "cell_type": "code",
      "execution_count": null,
      "id": "0db2b200",
      "metadata": {
        "id": "0db2b200"
      },
      "outputs": [],
      "source": [
        "df = df.drop(columns = ['ev_time','storm_name','photo_link','comments','loc_accu','ev_imp_id',\"src_link\",\"ev_desc\",\"ev_imp_src\",\"src_name\",\"ev_date\",\"ev_title\",\"loc_desc\",\"ctry_code\",\"gaz_point\",\"sub_date\",\"edit_date\"])"
      ]
    },
    {
      "cell_type": "code",
      "execution_count": null,
      "id": "427a99e5",
      "metadata": {
        "id": "427a99e5",
        "outputId": "8f42248b-cbe7-4cd4-ce19-9593c2979f8b"
      },
      "outputs": [
        {
          "data": {
            "text/plain": [
              "ev_id          0\n",
              "ls_cat         2\n",
              "ls_trig       33\n",
              "ls_size       10\n",
              "ls_setting    79\n",
              "fatalities     0\n",
              "injuries       0\n",
              "latitude       0\n",
              "longitude      0\n",
              "ctry_name     40\n",
              "div_name      40\n",
              "gaz_dist       0\n",
              "dtype: int64"
            ]
          },
          "execution_count": 74,
          "metadata": {},
          "output_type": "execute_result"
        }
      ],
      "source": [
        "df.isnull().sum()"
      ]
    },
    {
      "cell_type": "code",
      "execution_count": null,
      "id": "f2239360",
      "metadata": {
        "id": "f2239360"
      },
      "outputs": [],
      "source": [
        "df = df.dropna()"
      ]
    },
    {
      "cell_type": "code",
      "execution_count": null,
      "id": "facebd81",
      "metadata": {
        "id": "facebd81",
        "outputId": "5c601db7-7a8d-4822-e1b5-dfad60a6c785"
      },
      "outputs": [
        {
          "data": {
            "text/plain": [
              "ev_id         0\n",
              "ls_cat        0\n",
              "ls_trig       0\n",
              "ls_size       0\n",
              "ls_setting    0\n",
              "fatalities    0\n",
              "injuries      0\n",
              "latitude      0\n",
              "longitude     0\n",
              "ctry_name     0\n",
              "div_name      0\n",
              "gaz_dist      0\n",
              "dtype: int64"
            ]
          },
          "execution_count": 76,
          "metadata": {},
          "output_type": "execute_result"
        }
      ],
      "source": [
        "df.isnull().sum()"
      ]
    },
    {
      "cell_type": "code",
      "execution_count": null,
      "id": "0a7248dc",
      "metadata": {
        "id": "0a7248dc",
        "outputId": "da8ff9f8-6e15-4340-9a13-66bc08475a4e"
      },
      "outputs": [
        {
          "data": {
            "text/plain": [
              "array(['unknown', 'rain', 'downpour', 'continuous_rain', 'flooding',\n",
              "       'mining', 'other', 'tropical_cyclone', 'construction', 'monsoon',\n",
              "       'earthquake', 'snowfall_snowmelt', 'leaking_pipe',\n",
              "       'no_apparent_trigger', 'freeze_thaw', 'volcano',\n",
              "       'dam_embankment_collapse', 'vibration'], dtype=object)"
            ]
          },
          "execution_count": 77,
          "metadata": {},
          "output_type": "execute_result"
        }
      ],
      "source": [
        "df['ls_trig'].unique()"
      ]
    },
    {
      "cell_type": "code",
      "execution_count": null,
      "id": "d4718380",
      "metadata": {
        "id": "d4718380"
      },
      "outputs": [],
      "source": [
        "df.drop(df.index[df['ls_trig']=='unknown'], inplace=True)"
      ]
    },
    {
      "cell_type": "code",
      "execution_count": null,
      "id": "bada2f1c",
      "metadata": {
        "id": "bada2f1c",
        "outputId": "f869d5fa-a5ff-4b43-f9e9-c20214650e09"
      },
      "outputs": [
        {
          "data": {
            "text/html": [
              "<div>\n",
              "<style scoped>\n",
              "    .dataframe tbody tr th:only-of-type {\n",
              "        vertical-align: middle;\n",
              "    }\n",
              "\n",
              "    .dataframe tbody tr th {\n",
              "        vertical-align: top;\n",
              "    }\n",
              "\n",
              "    .dataframe thead th {\n",
              "        text-align: right;\n",
              "    }\n",
              "</style>\n",
              "<table border=\"1\" class=\"dataframe\">\n",
              "  <thead>\n",
              "    <tr style=\"text-align: right;\">\n",
              "      <th></th>\n",
              "      <th>ev_id</th>\n",
              "      <th>ls_cat</th>\n",
              "      <th>ls_trig</th>\n",
              "      <th>ls_size</th>\n",
              "      <th>ls_setting</th>\n",
              "      <th>fatalities</th>\n",
              "      <th>injuries</th>\n",
              "      <th>latitude</th>\n",
              "      <th>longitude</th>\n",
              "      <th>ctry_name</th>\n",
              "      <th>div_name</th>\n",
              "      <th>gaz_dist</th>\n",
              "    </tr>\n",
              "  </thead>\n",
              "  <tbody>\n",
              "    <tr>\n",
              "      <th>1</th>\n",
              "      <td>5,725</td>\n",
              "      <td>landslide</td>\n",
              "      <td>rain</td>\n",
              "      <td>medium</td>\n",
              "      <td>unknown</td>\n",
              "      <td>0</td>\n",
              "      <td>0</td>\n",
              "      <td>50.4972</td>\n",
              "      <td>-4.2100</td>\n",
              "      <td>United Kingdom</td>\n",
              "      <td>England</td>\n",
              "      <td>10.57</td>\n",
              "    </tr>\n",
              "    <tr>\n",
              "      <th>2</th>\n",
              "      <td>4,343</td>\n",
              "      <td>landslide</td>\n",
              "      <td>downpour</td>\n",
              "      <td>medium</td>\n",
              "      <td>unknown</td>\n",
              "      <td>0</td>\n",
              "      <td>0</td>\n",
              "      <td>31.7501</td>\n",
              "      <td>110.6807</td>\n",
              "      <td>China</td>\n",
              "      <td>Hubei</td>\n",
              "      <td>13.49</td>\n",
              "    </tr>\n",
              "    <tr>\n",
              "      <th>3</th>\n",
              "      <td>6,964</td>\n",
              "      <td>landslide</td>\n",
              "      <td>downpour</td>\n",
              "      <td>small</td>\n",
              "      <td>unknown</td>\n",
              "      <td>0</td>\n",
              "      <td>0</td>\n",
              "      <td>27.0087</td>\n",
              "      <td>88.4430</td>\n",
              "      <td>India</td>\n",
              "      <td>West Bengal</td>\n",
              "      <td>8.03</td>\n",
              "    </tr>\n",
              "    <tr>\n",
              "      <th>4</th>\n",
              "      <td>408</td>\n",
              "      <td>landslide</td>\n",
              "      <td>rain</td>\n",
              "      <td>medium</td>\n",
              "      <td>unknown</td>\n",
              "      <td>0</td>\n",
              "      <td>0</td>\n",
              "      <td>10.3904</td>\n",
              "      <td>124.9851</td>\n",
              "      <td>Philippines</td>\n",
              "      <td>Southern Leyte</td>\n",
              "      <td>0.07</td>\n",
              "    </tr>\n",
              "    <tr>\n",
              "      <th>6</th>\n",
              "      <td>6,628</td>\n",
              "      <td>landslide</td>\n",
              "      <td>downpour</td>\n",
              "      <td>medium</td>\n",
              "      <td>above_road</td>\n",
              "      <td>0</td>\n",
              "      <td>0</td>\n",
              "      <td>46.9780</td>\n",
              "      <td>-123.7960</td>\n",
              "      <td>United States</td>\n",
              "      <td>Washington</td>\n",
              "      <td>3.58</td>\n",
              "    </tr>\n",
              "    <tr>\n",
              "      <th>...</th>\n",
              "      <td>...</td>\n",
              "      <td>...</td>\n",
              "      <td>...</td>\n",
              "      <td>...</td>\n",
              "      <td>...</td>\n",
              "      <td>...</td>\n",
              "      <td>...</td>\n",
              "      <td>...</td>\n",
              "      <td>...</td>\n",
              "      <td>...</td>\n",
              "      <td>...</td>\n",
              "      <td>...</td>\n",
              "    </tr>\n",
              "    <tr>\n",
              "      <th>11332</th>\n",
              "      <td>1,958</td>\n",
              "      <td>landslide</td>\n",
              "      <td>monsoon</td>\n",
              "      <td>medium</td>\n",
              "      <td>retaining_wall</td>\n",
              "      <td>2</td>\n",
              "      <td>0</td>\n",
              "      <td>19.0176</td>\n",
              "      <td>72.8562</td>\n",
              "      <td>India</td>\n",
              "      <td>Maharashtra</td>\n",
              "      <td>7.89</td>\n",
              "    </tr>\n",
              "    <tr>\n",
              "      <th>11333</th>\n",
              "      <td>2,082</td>\n",
              "      <td>landslide</td>\n",
              "      <td>tropical_cyclone</td>\n",
              "      <td>medium</td>\n",
              "      <td>unknown</td>\n",
              "      <td>0</td>\n",
              "      <td>0</td>\n",
              "      <td>6.3665</td>\n",
              "      <td>124.7338</td>\n",
              "      <td>Philippines</td>\n",
              "      <td>South Cotabato</td>\n",
              "      <td>2.72</td>\n",
              "    </tr>\n",
              "    <tr>\n",
              "      <th>11334</th>\n",
              "      <td>1,498</td>\n",
              "      <td>landslide</td>\n",
              "      <td>rain</td>\n",
              "      <td>medium</td>\n",
              "      <td>unknown</td>\n",
              "      <td>0</td>\n",
              "      <td>0</td>\n",
              "      <td>34.1510</td>\n",
              "      <td>74.1213</td>\n",
              "      <td>India</td>\n",
              "      <td>Jammu and Kashmir</td>\n",
              "      <td>5.05</td>\n",
              "    </tr>\n",
              "    <tr>\n",
              "      <th>11335</th>\n",
              "      <td>9,461</td>\n",
              "      <td>unknown</td>\n",
              "      <td>tropical_cyclone</td>\n",
              "      <td>medium</td>\n",
              "      <td>above_road</td>\n",
              "      <td>0</td>\n",
              "      <td>0</td>\n",
              "      <td>20.4475</td>\n",
              "      <td>-98.1654</td>\n",
              "      <td>Mexico</td>\n",
              "      <td>Hidalgo</td>\n",
              "      <td>5.86</td>\n",
              "    </tr>\n",
              "    <tr>\n",
              "      <th>11336</th>\n",
              "      <td>6,432</td>\n",
              "      <td>complex</td>\n",
              "      <td>downpour</td>\n",
              "      <td>medium</td>\n",
              "      <td>above_road</td>\n",
              "      <td>0</td>\n",
              "      <td>0</td>\n",
              "      <td>30.7090</td>\n",
              "      <td>76.9834</td>\n",
              "      <td>India</td>\n",
              "      <td>Haryana</td>\n",
              "      <td>11.20</td>\n",
              "    </tr>\n",
              "  </tbody>\n",
              "</table>\n",
              "<p>9483 rows × 12 columns</p>\n",
              "</div>"
            ],
            "text/plain": [
              "       ev_id     ls_cat           ls_trig ls_size      ls_setting fatalities  \\\n",
              "1      5,725  landslide              rain  medium         unknown          0   \n",
              "2      4,343  landslide          downpour  medium         unknown          0   \n",
              "3      6,964  landslide          downpour   small         unknown          0   \n",
              "4        408  landslide              rain  medium         unknown          0   \n",
              "6      6,628  landslide          downpour  medium      above_road          0   \n",
              "...      ...        ...               ...     ...             ...        ...   \n",
              "11332  1,958  landslide           monsoon  medium  retaining_wall          2   \n",
              "11333  2,082  landslide  tropical_cyclone  medium         unknown          0   \n",
              "11334  1,498  landslide              rain  medium         unknown          0   \n",
              "11335  9,461    unknown  tropical_cyclone  medium      above_road          0   \n",
              "11336  6,432    complex          downpour  medium      above_road          0   \n",
              "\n",
              "       injuries  latitude  longitude       ctry_name           div_name  \\\n",
              "1             0   50.4972    -4.2100  United Kingdom            England   \n",
              "2             0   31.7501   110.6807           China              Hubei   \n",
              "3             0   27.0087    88.4430           India        West Bengal   \n",
              "4             0   10.3904   124.9851     Philippines     Southern Leyte   \n",
              "6             0   46.9780  -123.7960   United States         Washington   \n",
              "...         ...       ...        ...             ...                ...   \n",
              "11332         0   19.0176    72.8562           India        Maharashtra   \n",
              "11333         0    6.3665   124.7338     Philippines     South Cotabato   \n",
              "11334         0   34.1510    74.1213           India  Jammu and Kashmir   \n",
              "11335         0   20.4475   -98.1654          Mexico            Hidalgo   \n",
              "11336         0   30.7090    76.9834           India            Haryana   \n",
              "\n",
              "       gaz_dist  \n",
              "1         10.57  \n",
              "2         13.49  \n",
              "3          8.03  \n",
              "4          0.07  \n",
              "6          3.58  \n",
              "...         ...  \n",
              "11332      7.89  \n",
              "11333      2.72  \n",
              "11334      5.05  \n",
              "11335      5.86  \n",
              "11336     11.20  \n",
              "\n",
              "[9483 rows x 12 columns]"
            ]
          },
          "execution_count": 79,
          "metadata": {},
          "output_type": "execute_result"
        }
      ],
      "source": [
        "df"
      ]
    },
    {
      "cell_type": "markdown",
      "source": [
        "# DATA ANALYSIS"
      ],
      "metadata": {
        "id": "Jii4N6-Qe1RZ"
      },
      "id": "Jii4N6-Qe1RZ"
    },
    {
      "cell_type": "code",
      "execution_count": null,
      "id": "2d9358aa",
      "metadata": {
        "id": "2d9358aa"
      },
      "outputs": [],
      "source": [
        "data_count = df['ls_trig'].value_counts()"
      ]
    },
    {
      "cell_type": "code",
      "execution_count": null,
      "id": "2cf72c0b",
      "metadata": {
        "id": "2cf72c0b",
        "outputId": "c7d77b36-9bc0-480a-c77c-63e58079daae"
      },
      "outputs": [
        {
          "data": {
            "image/png": "[encoded data removed]",
            "text/plain": [
              "<Figure size 936x936 with 1 Axes>"
            ]
          },
          "metadata": {},
          "output_type": "display_data"
        }
      ],
      "source": [
        "plt.rcParams[\"figure.figsize\"] = [13.00, 13.00]\n",
        "colors = sns.color_palette('pastel')[0:5]\n",
        "plt.pie(data_count, labels = data_count.keys(), colors = colors, autopct='%.0f%%')\n",
        "plt.show()"
      ]
    },
    {
      "cell_type": "code",
      "execution_count": null,
      "id": "de208a15",
      "metadata": {
        "id": "de208a15"
      },
      "outputs": [],
      "source": [
        "ctry_count = df['ctry_name'].value_counts()\n",
        "ctry_count = ctry_count.head(10)"
      ]
    },
    {
      "cell_type": "code",
      "execution_count": null,
      "id": "d630c591",
      "metadata": {
        "id": "d630c591",
        "outputId": "4dc2f8fe-e43b-4268-9d4d-c492233aaffa"
      },
      "outputs": [
        {
          "data": {
            "text/plain": [
              "<AxesSubplot:>"
            ]
          },
          "execution_count": 114,
          "metadata": {},
          "output_type": "execute_result"
        },
        {
          "data": {
            "image/png": "[encoded data removed]",
            "text/plain": [
              "<Figure size 720x360 with 1 Axes>"
            ]
          },
          "metadata": {
            "needs_background": "light"
          },
          "output_type": "display_data"
        }
      ],
      "source": [
        "plt.rcParams[\"figure.figsize\"] = [10.00, 5.00]\n",
        "ctry_count.plot(kind='bar',color='#e6e600')"
      ]
    },
    {
      "cell_type": "markdown",
      "source": [
        "# FEATURE EXTRACTION"
      ],
      "metadata": {
        "id": "pMBnWZOAe8SF"
      },
      "id": "pMBnWZOAe8SF"
    },
    {
      "cell_type": "code",
      "execution_count": null,
      "id": "05676d10",
      "metadata": {
        "id": "05676d10",
        "outputId": "fb1efe06-8cf5-4268-d55a-f5370a703840"
      },
      "outputs": [
        {
          "data": {
            "text/plain": [
              "array(['rain', 'downpour', 'continuous_rain', 'flooding', 'mining',\n",
              "       'other', 'tropical_cyclone', 'construction', 'monsoon',\n",
              "       'earthquake', 'snowfall_snowmelt', 'leaking_pipe',\n",
              "       'no_apparent_trigger', 'freeze_thaw', 'volcano',\n",
              "       'dam_embankment_collapse', 'vibration'], dtype=object)"
            ]
          },
          "execution_count": 11,
          "metadata": {},
          "output_type": "execute_result"
        }
      ],
      "source": [
        "df['ls_trig'].unique()"
      ]
    },
    {
      "cell_type": "code",
      "execution_count": null,
      "id": "b6820f4b",
      "metadata": {
        "id": "b6820f4b"
      },
      "outputs": [],
      "source": [
        "new_map = {'rain' : 1,'downpour': 2,'continuous_rain' : 3,'flooding' : 4,'mining' : 5,'other' : 0,'tropical_cyclone' : 6,\n",
        "       'construction' : 7,'monsoon' : 8,'earthquake' : 9,'snowfall_snowmelt' : 10,'leaking_pipe' : 11,\n",
        "       'no_apparent_trigger' : 0,'freeze_thaw' : 12,'volcano' : 13,'dam_embankment_collapse' : 14,'vibration' : 15}"
      ]
    },
    {
      "cell_type": "code",
      "execution_count": null,
      "id": "b003678b",
      "metadata": {
        "id": "b003678b"
      },
      "outputs": [],
      "source": [
        "df = df.replace({\"ls_trig\" : new_map})"
      ]
    },
    {
      "cell_type": "code",
      "execution_count": null,
      "id": "b5c6a4f1",
      "metadata": {
        "id": "b5c6a4f1",
        "outputId": "76c08e8a-cd83-44d8-acd3-bf21ed43813a"
      },
      "outputs": [
        {
          "data": {
            "text/html": [
              "<div>\n",
              "<style scoped>\n",
              "    .dataframe tbody tr th:only-of-type {\n",
              "        vertical-align: middle;\n",
              "    }\n",
              "\n",
              "    .dataframe tbody tr th {\n",
              "        vertical-align: top;\n",
              "    }\n",
              "\n",
              "    .dataframe thead th {\n",
              "        text-align: right;\n",
              "    }\n",
              "</style>\n",
              "<table border=\"1\" class=\"dataframe\">\n",
              "  <thead>\n",
              "    <tr style=\"text-align: right;\">\n",
              "      <th></th>\n",
              "      <th>ev_id</th>\n",
              "      <th>ls_cat</th>\n",
              "      <th>ls_trig</th>\n",
              "      <th>ls_size</th>\n",
              "      <th>ls_setting</th>\n",
              "      <th>fatalities</th>\n",
              "      <th>injuries</th>\n",
              "      <th>latitude</th>\n",
              "      <th>longitude</th>\n",
              "      <th>ctry_name</th>\n",
              "      <th>div_name</th>\n",
              "      <th>gaz_dist</th>\n",
              "    </tr>\n",
              "  </thead>\n",
              "  <tbody>\n",
              "    <tr>\n",
              "      <th>1</th>\n",
              "      <td>5,725</td>\n",
              "      <td>landslide</td>\n",
              "      <td>1</td>\n",
              "      <td>medium</td>\n",
              "      <td>unknown</td>\n",
              "      <td>0</td>\n",
              "      <td>0</td>\n",
              "      <td>50.4972</td>\n",
              "      <td>-4.2100</td>\n",
              "      <td>United Kingdom</td>\n",
              "      <td>England</td>\n",
              "      <td>10.57</td>\n",
              "    </tr>\n",
              "    <tr>\n",
              "      <th>2</th>\n",
              "      <td>4,343</td>\n",
              "      <td>landslide</td>\n",
              "      <td>2</td>\n",
              "      <td>medium</td>\n",
              "      <td>unknown</td>\n",
              "      <td>0</td>\n",
              "      <td>0</td>\n",
              "      <td>31.7501</td>\n",
              "      <td>110.6807</td>\n",
              "      <td>China</td>\n",
              "      <td>Hubei</td>\n",
              "      <td>13.49</td>\n",
              "    </tr>\n",
              "    <tr>\n",
              "      <th>3</th>\n",
              "      <td>6,964</td>\n",
              "      <td>landslide</td>\n",
              "      <td>2</td>\n",
              "      <td>small</td>\n",
              "      <td>unknown</td>\n",
              "      <td>0</td>\n",
              "      <td>0</td>\n",
              "      <td>27.0087</td>\n",
              "      <td>88.4430</td>\n",
              "      <td>India</td>\n",
              "      <td>West Bengal</td>\n",
              "      <td>8.03</td>\n",
              "    </tr>\n",
              "    <tr>\n",
              "      <th>4</th>\n",
              "      <td>408</td>\n",
              "      <td>landslide</td>\n",
              "      <td>1</td>\n",
              "      <td>medium</td>\n",
              "      <td>unknown</td>\n",
              "      <td>0</td>\n",
              "      <td>0</td>\n",
              "      <td>10.3904</td>\n",
              "      <td>124.9851</td>\n",
              "      <td>Philippines</td>\n",
              "      <td>Southern Leyte</td>\n",
              "      <td>0.07</td>\n",
              "    </tr>\n",
              "    <tr>\n",
              "      <th>6</th>\n",
              "      <td>6,628</td>\n",
              "      <td>landslide</td>\n",
              "      <td>2</td>\n",
              "      <td>medium</td>\n",
              "      <td>above_road</td>\n",
              "      <td>0</td>\n",
              "      <td>0</td>\n",
              "      <td>46.9780</td>\n",
              "      <td>-123.7960</td>\n",
              "      <td>United States</td>\n",
              "      <td>Washington</td>\n",
              "      <td>3.58</td>\n",
              "    </tr>\n",
              "    <tr>\n",
              "      <th>...</th>\n",
              "      <td>...</td>\n",
              "      <td>...</td>\n",
              "      <td>...</td>\n",
              "      <td>...</td>\n",
              "      <td>...</td>\n",
              "      <td>...</td>\n",
              "      <td>...</td>\n",
              "      <td>...</td>\n",
              "      <td>...</td>\n",
              "      <td>...</td>\n",
              "      <td>...</td>\n",
              "      <td>...</td>\n",
              "    </tr>\n",
              "    <tr>\n",
              "      <th>11332</th>\n",
              "      <td>1,958</td>\n",
              "      <td>landslide</td>\n",
              "      <td>8</td>\n",
              "      <td>medium</td>\n",
              "      <td>retaining_wall</td>\n",
              "      <td>2</td>\n",
              "      <td>0</td>\n",
              "      <td>19.0176</td>\n",
              "      <td>72.8562</td>\n",
              "      <td>India</td>\n",
              "      <td>Maharashtra</td>\n",
              "      <td>7.89</td>\n",
              "    </tr>\n",
              "    <tr>\n",
              "      <th>11333</th>\n",
              "      <td>2,082</td>\n",
              "      <td>landslide</td>\n",
              "      <td>6</td>\n",
              "      <td>medium</td>\n",
              "      <td>unknown</td>\n",
              "      <td>0</td>\n",
              "      <td>0</td>\n",
              "      <td>6.3665</td>\n",
              "      <td>124.7338</td>\n",
              "      <td>Philippines</td>\n",
              "      <td>South Cotabato</td>\n",
              "      <td>2.72</td>\n",
              "    </tr>\n",
              "    <tr>\n",
              "      <th>11334</th>\n",
              "      <td>1,498</td>\n",
              "      <td>landslide</td>\n",
              "      <td>1</td>\n",
              "      <td>medium</td>\n",
              "      <td>unknown</td>\n",
              "      <td>0</td>\n",
              "      <td>0</td>\n",
              "      <td>34.1510</td>\n",
              "      <td>74.1213</td>\n",
              "      <td>India</td>\n",
              "      <td>Jammu and Kashmir</td>\n",
              "      <td>5.05</td>\n",
              "    </tr>\n",
              "    <tr>\n",
              "      <th>11335</th>\n",
              "      <td>9,461</td>\n",
              "      <td>unknown</td>\n",
              "      <td>6</td>\n",
              "      <td>medium</td>\n",
              "      <td>above_road</td>\n",
              "      <td>0</td>\n",
              "      <td>0</td>\n",
              "      <td>20.4475</td>\n",
              "      <td>-98.1654</td>\n",
              "      <td>Mexico</td>\n",
              "      <td>Hidalgo</td>\n",
              "      <td>5.86</td>\n",
              "    </tr>\n",
              "    <tr>\n",
              "      <th>11336</th>\n",
              "      <td>6,432</td>\n",
              "      <td>complex</td>\n",
              "      <td>2</td>\n",
              "      <td>medium</td>\n",
              "      <td>above_road</td>\n",
              "      <td>0</td>\n",
              "      <td>0</td>\n",
              "      <td>30.7090</td>\n",
              "      <td>76.9834</td>\n",
              "      <td>India</td>\n",
              "      <td>Haryana</td>\n",
              "      <td>11.20</td>\n",
              "    </tr>\n",
              "  </tbody>\n",
              "</table>\n",
              "<p>9483 rows × 12 columns</p>\n",
              "</div>"
            ],
            "text/plain": [
              "       ev_id     ls_cat  ls_trig ls_size      ls_setting fatalities  injuries  \\\n",
              "1      5,725  landslide        1  medium         unknown          0         0   \n",
              "2      4,343  landslide        2  medium         unknown          0         0   \n",
              "3      6,964  landslide        2   small         unknown          0         0   \n",
              "4        408  landslide        1  medium         unknown          0         0   \n",
              "6      6,628  landslide        2  medium      above_road          0         0   \n",
              "...      ...        ...      ...     ...             ...        ...       ...   \n",
              "11332  1,958  landslide        8  medium  retaining_wall          2         0   \n",
              "11333  2,082  landslide        6  medium         unknown          0         0   \n",
              "11334  1,498  landslide        1  medium         unknown          0         0   \n",
              "11335  9,461    unknown        6  medium      above_road          0         0   \n",
              "11336  6,432    complex        2  medium      above_road          0         0   \n",
              "\n",
              "       latitude  longitude       ctry_name           div_name  gaz_dist  \n",
              "1       50.4972    -4.2100  United Kingdom            England     10.57  \n",
              "2       31.7501   110.6807           China              Hubei     13.49  \n",
              "3       27.0087    88.4430           India        West Bengal      8.03  \n",
              "4       10.3904   124.9851     Philippines     Southern Leyte      0.07  \n",
              "6       46.9780  -123.7960   United States         Washington      3.58  \n",
              "...         ...        ...             ...                ...       ...  \n",
              "11332   19.0176    72.8562           India        Maharashtra      7.89  \n",
              "11333    6.3665   124.7338     Philippines     South Cotabato      2.72  \n",
              "11334   34.1510    74.1213           India  Jammu and Kashmir      5.05  \n",
              "11335   20.4475   -98.1654          Mexico            Hidalgo      5.86  \n",
              "11336   30.7090    76.9834           India            Haryana     11.20  \n",
              "\n",
              "[9483 rows x 12 columns]"
            ]
          },
          "execution_count": 14,
          "metadata": {},
          "output_type": "execute_result"
        }
      ],
      "source": [
        "df"
      ]
    },
    {
      "cell_type": "code",
      "execution_count": null,
      "id": "376538fd",
      "metadata": {
        "id": "376538fd"
      },
      "outputs": [],
      "source": [
        "df=df[df['ls_cat']=='landslide']"
      ]
    },
    {
      "cell_type": "code",
      "execution_count": null,
      "id": "f2c9e010",
      "metadata": {
        "id": "f2c9e010"
      },
      "outputs": [],
      "source": [
        "new_map = {v: k for k, v in new_map.items()}"
      ]
    },
    {
      "cell_type": "code",
      "execution_count": null,
      "id": "569a7481",
      "metadata": {
        "id": "569a7481",
        "outputId": "2f051103-7df4-43d1-84df-c6f437dcdbb7"
      },
      "outputs": [
        {
          "data": {
            "text/html": [
              "<div>\n",
              "<style scoped>\n",
              "    .dataframe tbody tr th:only-of-type {\n",
              "        vertical-align: middle;\n",
              "    }\n",
              "\n",
              "    .dataframe tbody tr th {\n",
              "        vertical-align: top;\n",
              "    }\n",
              "\n",
              "    .dataframe thead th {\n",
              "        text-align: right;\n",
              "    }\n",
              "</style>\n",
              "<table border=\"1\" class=\"dataframe\">\n",
              "  <thead>\n",
              "    <tr style=\"text-align: right;\">\n",
              "      <th></th>\n",
              "      <th>ev_id</th>\n",
              "      <th>ls_cat</th>\n",
              "      <th>ls_trig</th>\n",
              "      <th>ls_size</th>\n",
              "      <th>ls_setting</th>\n",
              "      <th>fatalities</th>\n",
              "      <th>injuries</th>\n",
              "      <th>latitude</th>\n",
              "      <th>longitude</th>\n",
              "      <th>ctry_name</th>\n",
              "      <th>div_name</th>\n",
              "      <th>gaz_dist</th>\n",
              "    </tr>\n",
              "  </thead>\n",
              "  <tbody>\n",
              "    <tr>\n",
              "      <th>1</th>\n",
              "      <td>5,725</td>\n",
              "      <td>landslide</td>\n",
              "      <td>1</td>\n",
              "      <td>medium</td>\n",
              "      <td>unknown</td>\n",
              "      <td>0</td>\n",
              "      <td>0</td>\n",
              "      <td>50.4972</td>\n",
              "      <td>-4.2100</td>\n",
              "      <td>United Kingdom</td>\n",
              "      <td>England</td>\n",
              "      <td>10.57</td>\n",
              "    </tr>\n",
              "    <tr>\n",
              "      <th>2</th>\n",
              "      <td>4,343</td>\n",
              "      <td>landslide</td>\n",
              "      <td>2</td>\n",
              "      <td>medium</td>\n",
              "      <td>unknown</td>\n",
              "      <td>0</td>\n",
              "      <td>0</td>\n",
              "      <td>31.7501</td>\n",
              "      <td>110.6807</td>\n",
              "      <td>China</td>\n",
              "      <td>Hubei</td>\n",
              "      <td>13.49</td>\n",
              "    </tr>\n",
              "    <tr>\n",
              "      <th>3</th>\n",
              "      <td>6,964</td>\n",
              "      <td>landslide</td>\n",
              "      <td>2</td>\n",
              "      <td>small</td>\n",
              "      <td>unknown</td>\n",
              "      <td>0</td>\n",
              "      <td>0</td>\n",
              "      <td>27.0087</td>\n",
              "      <td>88.4430</td>\n",
              "      <td>India</td>\n",
              "      <td>West Bengal</td>\n",
              "      <td>8.03</td>\n",
              "    </tr>\n",
              "    <tr>\n",
              "      <th>4</th>\n",
              "      <td>408</td>\n",
              "      <td>landslide</td>\n",
              "      <td>1</td>\n",
              "      <td>medium</td>\n",
              "      <td>unknown</td>\n",
              "      <td>0</td>\n",
              "      <td>0</td>\n",
              "      <td>10.3904</td>\n",
              "      <td>124.9851</td>\n",
              "      <td>Philippines</td>\n",
              "      <td>Southern Leyte</td>\n",
              "      <td>0.07</td>\n",
              "    </tr>\n",
              "    <tr>\n",
              "      <th>6</th>\n",
              "      <td>6,628</td>\n",
              "      <td>landslide</td>\n",
              "      <td>2</td>\n",
              "      <td>medium</td>\n",
              "      <td>above_road</td>\n",
              "      <td>0</td>\n",
              "      <td>0</td>\n",
              "      <td>46.9780</td>\n",
              "      <td>-123.7960</td>\n",
              "      <td>United States</td>\n",
              "      <td>Washington</td>\n",
              "      <td>3.58</td>\n",
              "    </tr>\n",
              "    <tr>\n",
              "      <th>...</th>\n",
              "      <td>...</td>\n",
              "      <td>...</td>\n",
              "      <td>...</td>\n",
              "      <td>...</td>\n",
              "      <td>...</td>\n",
              "      <td>...</td>\n",
              "      <td>...</td>\n",
              "      <td>...</td>\n",
              "      <td>...</td>\n",
              "      <td>...</td>\n",
              "      <td>...</td>\n",
              "      <td>...</td>\n",
              "    </tr>\n",
              "    <tr>\n",
              "      <th>11330</th>\n",
              "      <td>4,911</td>\n",
              "      <td>landslide</td>\n",
              "      <td>2</td>\n",
              "      <td>medium</td>\n",
              "      <td>unknown</td>\n",
              "      <td>0</td>\n",
              "      <td>0</td>\n",
              "      <td>28.3952</td>\n",
              "      <td>83.5043</td>\n",
              "      <td>Nepal</td>\n",
              "      <td>Dhawalagiri</td>\n",
              "      <td>8.89</td>\n",
              "    </tr>\n",
              "    <tr>\n",
              "      <th>11331</th>\n",
              "      <td>2,434</td>\n",
              "      <td>landslide</td>\n",
              "      <td>2</td>\n",
              "      <td>medium</td>\n",
              "      <td>unknown</td>\n",
              "      <td>0</td>\n",
              "      <td>0</td>\n",
              "      <td>27.8808</td>\n",
              "      <td>83.3395</td>\n",
              "      <td>Nepal</td>\n",
              "      <td>Lumbini</td>\n",
              "      <td>20.38</td>\n",
              "    </tr>\n",
              "    <tr>\n",
              "      <th>11332</th>\n",
              "      <td>1,958</td>\n",
              "      <td>landslide</td>\n",
              "      <td>8</td>\n",
              "      <td>medium</td>\n",
              "      <td>retaining_wall</td>\n",
              "      <td>2</td>\n",
              "      <td>0</td>\n",
              "      <td>19.0176</td>\n",
              "      <td>72.8562</td>\n",
              "      <td>India</td>\n",
              "      <td>Maharashtra</td>\n",
              "      <td>7.89</td>\n",
              "    </tr>\n",
              "    <tr>\n",
              "      <th>11333</th>\n",
              "      <td>2,082</td>\n",
              "      <td>landslide</td>\n",
              "      <td>6</td>\n",
              "      <td>medium</td>\n",
              "      <td>unknown</td>\n",
              "      <td>0</td>\n",
              "      <td>0</td>\n",
              "      <td>6.3665</td>\n",
              "      <td>124.7338</td>\n",
              "      <td>Philippines</td>\n",
              "      <td>South Cotabato</td>\n",
              "      <td>2.72</td>\n",
              "    </tr>\n",
              "    <tr>\n",
              "      <th>11334</th>\n",
              "      <td>1,498</td>\n",
              "      <td>landslide</td>\n",
              "      <td>1</td>\n",
              "      <td>medium</td>\n",
              "      <td>unknown</td>\n",
              "      <td>0</td>\n",
              "      <td>0</td>\n",
              "      <td>34.1510</td>\n",
              "      <td>74.1213</td>\n",
              "      <td>India</td>\n",
              "      <td>Jammu and Kashmir</td>\n",
              "      <td>5.05</td>\n",
              "    </tr>\n",
              "  </tbody>\n",
              "</table>\n",
              "<p>6364 rows × 12 columns</p>\n",
              "</div>"
            ],
            "text/plain": [
              "       ev_id     ls_cat  ls_trig ls_size      ls_setting fatalities  injuries  \\\n",
              "1      5,725  landslide        1  medium         unknown          0         0   \n",
              "2      4,343  landslide        2  medium         unknown          0         0   \n",
              "3      6,964  landslide        2   small         unknown          0         0   \n",
              "4        408  landslide        1  medium         unknown          0         0   \n",
              "6      6,628  landslide        2  medium      above_road          0         0   \n",
              "...      ...        ...      ...     ...             ...        ...       ...   \n",
              "11330  4,911  landslide        2  medium         unknown          0         0   \n",
              "11331  2,434  landslide        2  medium         unknown          0         0   \n",
              "11332  1,958  landslide        8  medium  retaining_wall          2         0   \n",
              "11333  2,082  landslide        6  medium         unknown          0         0   \n",
              "11334  1,498  landslide        1  medium         unknown          0         0   \n",
              "\n",
              "       latitude  longitude       ctry_name           div_name  gaz_dist  \n",
              "1       50.4972    -4.2100  United Kingdom            England     10.57  \n",
              "2       31.7501   110.6807           China              Hubei     13.49  \n",
              "3       27.0087    88.4430           India        West Bengal      8.03  \n",
              "4       10.3904   124.9851     Philippines     Southern Leyte      0.07  \n",
              "6       46.9780  -123.7960   United States         Washington      3.58  \n",
              "...         ...        ...             ...                ...       ...  \n",
              "11330   28.3952    83.5043           Nepal        Dhawalagiri      8.89  \n",
              "11331   27.8808    83.3395           Nepal            Lumbini     20.38  \n",
              "11332   19.0176    72.8562           India        Maharashtra      7.89  \n",
              "11333    6.3665   124.7338     Philippines     South Cotabato      2.72  \n",
              "11334   34.1510    74.1213           India  Jammu and Kashmir      5.05  \n",
              "\n",
              "[6364 rows x 12 columns]"
            ]
          },
          "execution_count": 17,
          "metadata": {},
          "output_type": "execute_result"
        }
      ],
      "source": [
        "df"
      ]
    },
    {
      "cell_type": "code",
      "execution_count": null,
      "id": "c24fcc34",
      "metadata": {
        "id": "c24fcc34"
      },
      "outputs": [],
      "source": [
        "df = df.drop(columns = [\"ls_cat\"])"
      ]
    },
    {
      "cell_type": "code",
      "execution_count": null,
      "id": "5027e146",
      "metadata": {
        "id": "5027e146"
      },
      "outputs": [],
      "source": [
        "df_new = pd.get_dummies(df[\"ls_size\"])\n",
        "df = pd.concat([df,df_new],axis=1)\n",
        "df_new = pd.get_dummies(df[\"ls_setting\"])\n",
        "df = pd.concat([df,df_new],axis=1)\n",
        "df_new = pd.get_dummies(df[\"ctry_name\"])\n",
        "df = pd.concat([df,df_new],axis=1)\n",
        "df_new = pd.get_dummies(df[\"div_name\"])\n",
        "df = pd.concat([df,df_new],axis=1)\n",
        "df = df.drop(columns = [\"ls_size\",\"ls_setting\",\"ctry_name\",\"div_name\"])"
      ]
    },
    {
      "cell_type": "code",
      "execution_count": null,
      "id": "b4dbce96",
      "metadata": {
        "id": "b4dbce96",
        "outputId": "87f96b3b-4c40-4de5-9ce1-d67169926ddd"
      },
      "outputs": [
        {
          "data": {
            "text/plain": [
              "array([ 1,  2,  3,  4,  5,  0,  6,  7,  8,  9, 10, 11, 12, 14],\n",
              "      dtype=int64)"
            ]
          },
          "execution_count": 20,
          "metadata": {},
          "output_type": "execute_result"
        }
      ],
      "source": [
        "df['ls_trig'].unique()"
      ]
    },
    {
      "cell_type": "code",
      "execution_count": null,
      "id": "a71d0fdc",
      "metadata": {
        "id": "a71d0fdc",
        "outputId": "3a590e6c-0c47-45d7-a3ce-8a0a9d03584c"
      },
      "outputs": [
        {
          "data": {
            "text/html": [
              "<div>\n",
              "<style scoped>\n",
              "    .dataframe tbody tr th:only-of-type {\n",
              "        vertical-align: middle;\n",
              "    }\n",
              "\n",
              "    .dataframe tbody tr th {\n",
              "        vertical-align: top;\n",
              "    }\n",
              "\n",
              "    .dataframe thead th {\n",
              "        text-align: right;\n",
              "    }\n",
              "</style>\n",
              "<table border=\"1\" class=\"dataframe\">\n",
              "  <thead>\n",
              "    <tr style=\"text-align: right;\">\n",
              "      <th></th>\n",
              "      <th>ev_id</th>\n",
              "      <th>ls_trig</th>\n",
              "      <th>fatalities</th>\n",
              "      <th>injuries</th>\n",
              "      <th>latitude</th>\n",
              "      <th>longitude</th>\n",
              "      <th>gaz_dist</th>\n",
              "      <th>catastrophic</th>\n",
              "      <th>large</th>\n",
              "      <th>medium</th>\n",
              "      <th>...</th>\n",
              "      <th>Zamboanga City</th>\n",
              "      <th>Zamboanga Sibuguey</th>\n",
              "      <th>Zamboanga del Norte</th>\n",
              "      <th>Zamboanga del Sur</th>\n",
              "      <th>Zamora-Chinchipe</th>\n",
              "      <th>Zhejiang</th>\n",
              "      <th>Zlínsky</th>\n",
              "      <th>Ôita</th>\n",
              "      <th>Şan‘ā’</th>\n",
              "      <th>Şā‘dah</th>\n",
              "    </tr>\n",
              "  </thead>\n",
              "  <tbody>\n",
              "    <tr>\n",
              "      <th>1</th>\n",
              "      <td>5,725</td>\n",
              "      <td>1</td>\n",
              "      <td>0</td>\n",
              "      <td>0</td>\n",
              "      <td>50.4972</td>\n",
              "      <td>-4.2100</td>\n",
              "      <td>10.57</td>\n",
              "      <td>0</td>\n",
              "      <td>0</td>\n",
              "      <td>1</td>\n",
              "      <td>...</td>\n",
              "      <td>0</td>\n",
              "      <td>0</td>\n",
              "      <td>0</td>\n",
              "      <td>0</td>\n",
              "      <td>0</td>\n",
              "      <td>0</td>\n",
              "      <td>0</td>\n",
              "      <td>0</td>\n",
              "      <td>0</td>\n",
              "      <td>0</td>\n",
              "    </tr>\n",
              "    <tr>\n",
              "      <th>2</th>\n",
              "      <td>4,343</td>\n",
              "      <td>2</td>\n",
              "      <td>0</td>\n",
              "      <td>0</td>\n",
              "      <td>31.7501</td>\n",
              "      <td>110.6807</td>\n",
              "      <td>13.49</td>\n",
              "      <td>0</td>\n",
              "      <td>0</td>\n",
              "      <td>1</td>\n",
              "      <td>...</td>\n",
              "      <td>0</td>\n",
              "      <td>0</td>\n",
              "      <td>0</td>\n",
              "      <td>0</td>\n",
              "      <td>0</td>\n",
              "      <td>0</td>\n",
              "      <td>0</td>\n",
              "      <td>0</td>\n",
              "      <td>0</td>\n",
              "      <td>0</td>\n",
              "    </tr>\n",
              "    <tr>\n",
              "      <th>3</th>\n",
              "      <td>6,964</td>\n",
              "      <td>2</td>\n",
              "      <td>0</td>\n",
              "      <td>0</td>\n",
              "      <td>27.0087</td>\n",
              "      <td>88.4430</td>\n",
              "      <td>8.03</td>\n",
              "      <td>0</td>\n",
              "      <td>0</td>\n",
              "      <td>0</td>\n",
              "      <td>...</td>\n",
              "      <td>0</td>\n",
              "      <td>0</td>\n",
              "      <td>0</td>\n",
              "      <td>0</td>\n",
              "      <td>0</td>\n",
              "      <td>0</td>\n",
              "      <td>0</td>\n",
              "      <td>0</td>\n",
              "      <td>0</td>\n",
              "      <td>0</td>\n",
              "    </tr>\n",
              "    <tr>\n",
              "      <th>4</th>\n",
              "      <td>408</td>\n",
              "      <td>1</td>\n",
              "      <td>0</td>\n",
              "      <td>0</td>\n",
              "      <td>10.3904</td>\n",
              "      <td>124.9851</td>\n",
              "      <td>0.07</td>\n",
              "      <td>0</td>\n",
              "      <td>0</td>\n",
              "      <td>1</td>\n",
              "      <td>...</td>\n",
              "      <td>0</td>\n",
              "      <td>0</td>\n",
              "      <td>0</td>\n",
              "      <td>0</td>\n",
              "      <td>0</td>\n",
              "      <td>0</td>\n",
              "      <td>0</td>\n",
              "      <td>0</td>\n",
              "      <td>0</td>\n",
              "      <td>0</td>\n",
              "    </tr>\n",
              "    <tr>\n",
              "      <th>6</th>\n",
              "      <td>6,628</td>\n",
              "      <td>2</td>\n",
              "      <td>0</td>\n",
              "      <td>0</td>\n",
              "      <td>46.9780</td>\n",
              "      <td>-123.7960</td>\n",
              "      <td>3.58</td>\n",
              "      <td>0</td>\n",
              "      <td>0</td>\n",
              "      <td>1</td>\n",
              "      <td>...</td>\n",
              "      <td>0</td>\n",
              "      <td>0</td>\n",
              "      <td>0</td>\n",
              "      <td>0</td>\n",
              "      <td>0</td>\n",
              "      <td>0</td>\n",
              "      <td>0</td>\n",
              "      <td>0</td>\n",
              "      <td>0</td>\n",
              "      <td>0</td>\n",
              "    </tr>\n",
              "    <tr>\n",
              "      <th>...</th>\n",
              "      <td>...</td>\n",
              "      <td>...</td>\n",
              "      <td>...</td>\n",
              "      <td>...</td>\n",
              "      <td>...</td>\n",
              "      <td>...</td>\n",
              "      <td>...</td>\n",
              "      <td>...</td>\n",
              "      <td>...</td>\n",
              "      <td>...</td>\n",
              "      <td>...</td>\n",
              "      <td>...</td>\n",
              "      <td>...</td>\n",
              "      <td>...</td>\n",
              "      <td>...</td>\n",
              "      <td>...</td>\n",
              "      <td>...</td>\n",
              "      <td>...</td>\n",
              "      <td>...</td>\n",
              "      <td>...</td>\n",
              "      <td>...</td>\n",
              "    </tr>\n",
              "    <tr>\n",
              "      <th>11330</th>\n",
              "      <td>4,911</td>\n",
              "      <td>2</td>\n",
              "      <td>0</td>\n",
              "      <td>0</td>\n",
              "      <td>28.3952</td>\n",
              "      <td>83.5043</td>\n",
              "      <td>8.89</td>\n",
              "      <td>0</td>\n",
              "      <td>0</td>\n",
              "      <td>1</td>\n",
              "      <td>...</td>\n",
              "      <td>0</td>\n",
              "      <td>0</td>\n",
              "      <td>0</td>\n",
              "      <td>0</td>\n",
              "      <td>0</td>\n",
              "      <td>0</td>\n",
              "      <td>0</td>\n",
              "      <td>0</td>\n",
              "      <td>0</td>\n",
              "      <td>0</td>\n",
              "    </tr>\n",
              "    <tr>\n",
              "      <th>11331</th>\n",
              "      <td>2,434</td>\n",
              "      <td>2</td>\n",
              "      <td>0</td>\n",
              "      <td>0</td>\n",
              "      <td>27.8808</td>\n",
              "      <td>83.3395</td>\n",
              "      <td>20.38</td>\n",
              "      <td>0</td>\n",
              "      <td>0</td>\n",
              "      <td>1</td>\n",
              "      <td>...</td>\n",
              "      <td>0</td>\n",
              "      <td>0</td>\n",
              "      <td>0</td>\n",
              "      <td>0</td>\n",
              "      <td>0</td>\n",
              "      <td>0</td>\n",
              "      <td>0</td>\n",
              "      <td>0</td>\n",
              "      <td>0</td>\n",
              "      <td>0</td>\n",
              "    </tr>\n",
              "    <tr>\n",
              "      <th>11332</th>\n",
              "      <td>1,958</td>\n",
              "      <td>8</td>\n",
              "      <td>2</td>\n",
              "      <td>0</td>\n",
              "      <td>19.0176</td>\n",
              "      <td>72.8562</td>\n",
              "      <td>7.89</td>\n",
              "      <td>0</td>\n",
              "      <td>0</td>\n",
              "      <td>1</td>\n",
              "      <td>...</td>\n",
              "      <td>0</td>\n",
              "      <td>0</td>\n",
              "      <td>0</td>\n",
              "      <td>0</td>\n",
              "      <td>0</td>\n",
              "      <td>0</td>\n",
              "      <td>0</td>\n",
              "      <td>0</td>\n",
              "      <td>0</td>\n",
              "      <td>0</td>\n",
              "    </tr>\n",
              "    <tr>\n",
              "      <th>11333</th>\n",
              "      <td>2,082</td>\n",
              "      <td>6</td>\n",
              "      <td>0</td>\n",
              "      <td>0</td>\n",
              "      <td>6.3665</td>\n",
              "      <td>124.7338</td>\n",
              "      <td>2.72</td>\n",
              "      <td>0</td>\n",
              "      <td>0</td>\n",
              "      <td>1</td>\n",
              "      <td>...</td>\n",
              "      <td>0</td>\n",
              "      <td>0</td>\n",
              "      <td>0</td>\n",
              "      <td>0</td>\n",
              "      <td>0</td>\n",
              "      <td>0</td>\n",
              "      <td>0</td>\n",
              "      <td>0</td>\n",
              "      <td>0</td>\n",
              "      <td>0</td>\n",
              "    </tr>\n",
              "    <tr>\n",
              "      <th>11334</th>\n",
              "      <td>1,498</td>\n",
              "      <td>1</td>\n",
              "      <td>0</td>\n",
              "      <td>0</td>\n",
              "      <td>34.1510</td>\n",
              "      <td>74.1213</td>\n",
              "      <td>5.05</td>\n",
              "      <td>0</td>\n",
              "      <td>0</td>\n",
              "      <td>1</td>\n",
              "      <td>...</td>\n",
              "      <td>0</td>\n",
              "      <td>0</td>\n",
              "      <td>0</td>\n",
              "      <td>0</td>\n",
              "      <td>0</td>\n",
              "      <td>0</td>\n",
              "      <td>0</td>\n",
              "      <td>0</td>\n",
              "      <td>0</td>\n",
              "      <td>0</td>\n",
              "    </tr>\n",
              "  </tbody>\n",
              "</table>\n",
              "<p>6364 rows × 959 columns</p>\n",
              "</div>"
            ],
            "text/plain": [
              "       ev_id  ls_trig fatalities  injuries  latitude  longitude  gaz_dist  \\\n",
              "1      5,725        1          0         0   50.4972    -4.2100     10.57   \n",
              "2      4,343        2          0         0   31.7501   110.6807     13.49   \n",
              "3      6,964        2          0         0   27.0087    88.4430      8.03   \n",
              "4        408        1          0         0   10.3904   124.9851      0.07   \n",
              "6      6,628        2          0         0   46.9780  -123.7960      3.58   \n",
              "...      ...      ...        ...       ...       ...        ...       ...   \n",
              "11330  4,911        2          0         0   28.3952    83.5043      8.89   \n",
              "11331  2,434        2          0         0   27.8808    83.3395     20.38   \n",
              "11332  1,958        8          2         0   19.0176    72.8562      7.89   \n",
              "11333  2,082        6          0         0    6.3665   124.7338      2.72   \n",
              "11334  1,498        1          0         0   34.1510    74.1213      5.05   \n",
              "\n",
              "       catastrophic  large  medium  ...  Zamboanga City  Zamboanga Sibuguey  \\\n",
              "1                 0      0       1  ...               0                   0   \n",
              "2                 0      0       1  ...               0                   0   \n",
              "3                 0      0       0  ...               0                   0   \n",
              "4                 0      0       1  ...               0                   0   \n",
              "6                 0      0       1  ...               0                   0   \n",
              "...             ...    ...     ...  ...             ...                 ...   \n",
              "11330             0      0       1  ...               0                   0   \n",
              "11331             0      0       1  ...               0                   0   \n",
              "11332             0      0       1  ...               0                   0   \n",
              "11333             0      0       1  ...               0                   0   \n",
              "11334             0      0       1  ...               0                   0   \n",
              "\n",
              "       Zamboanga del Norte  Zamboanga del Sur  Zamora-Chinchipe  Zhejiang  \\\n",
              "1                        0                  0                 0         0   \n",
              "2                        0                  0                 0         0   \n",
              "3                        0                  0                 0         0   \n",
              "4                        0                  0                 0         0   \n",
              "6                        0                  0                 0         0   \n",
              "...                    ...                ...               ...       ...   \n",
              "11330                    0                  0                 0         0   \n",
              "11331                    0                  0                 0         0   \n",
              "11332                    0                  0                 0         0   \n",
              "11333                    0                  0                 0         0   \n",
              "11334                    0                  0                 0         0   \n",
              "\n",
              "       Zlínsky  Ôita  Şan‘ā’  Şā‘dah  \n",
              "1            0     0       0       0  \n",
              "2            0     0       0       0  \n",
              "3            0     0       0       0  \n",
              "4            0     0       0       0  \n",
              "6            0     0       0       0  \n",
              "...        ...   ...     ...     ...  \n",
              "11330        0     0       0       0  \n",
              "11331        0     0       0       0  \n",
              "11332        0     0       0       0  \n",
              "11333        0     0       0       0  \n",
              "11334        0     0       0       0  \n",
              "\n",
              "[6364 rows x 959 columns]"
            ]
          },
          "execution_count": 21,
          "metadata": {},
          "output_type": "execute_result"
        }
      ],
      "source": [
        "df"
      ]
    },
    {
      "cell_type": "code",
      "execution_count": null,
      "id": "bc2a5f8b",
      "metadata": {
        "id": "bc2a5f8b"
      },
      "outputs": [],
      "source": [
        "df['ev_id']=df['ev_id'].str.replace(',', '')\n",
        "df['fatalities']=df['fatalities'].str.replace(',', '')"
      ]
    },
    {
      "cell_type": "code",
      "execution_count": null,
      "id": "c5151548",
      "metadata": {
        "id": "c5151548",
        "outputId": "4e255cbc-0141-402d-d8cd-cfa19fa6ee8f"
      },
      "outputs": [
        {
          "data": {
            "text/html": [
              "<div>\n",
              "<style scoped>\n",
              "    .dataframe tbody tr th:only-of-type {\n",
              "        vertical-align: middle;\n",
              "    }\n",
              "\n",
              "    .dataframe tbody tr th {\n",
              "        vertical-align: top;\n",
              "    }\n",
              "\n",
              "    .dataframe thead th {\n",
              "        text-align: right;\n",
              "    }\n",
              "</style>\n",
              "<table border=\"1\" class=\"dataframe\">\n",
              "  <thead>\n",
              "    <tr style=\"text-align: right;\">\n",
              "      <th></th>\n",
              "      <th>ev_id</th>\n",
              "      <th>ls_trig</th>\n",
              "      <th>fatalities</th>\n",
              "      <th>injuries</th>\n",
              "      <th>latitude</th>\n",
              "      <th>longitude</th>\n",
              "      <th>gaz_dist</th>\n",
              "      <th>catastrophic</th>\n",
              "      <th>large</th>\n",
              "      <th>medium</th>\n",
              "      <th>...</th>\n",
              "      <th>Zamboanga City</th>\n",
              "      <th>Zamboanga Sibuguey</th>\n",
              "      <th>Zamboanga del Norte</th>\n",
              "      <th>Zamboanga del Sur</th>\n",
              "      <th>Zamora-Chinchipe</th>\n",
              "      <th>Zhejiang</th>\n",
              "      <th>Zlínsky</th>\n",
              "      <th>Ôita</th>\n",
              "      <th>Şan‘ā’</th>\n",
              "      <th>Şā‘dah</th>\n",
              "    </tr>\n",
              "  </thead>\n",
              "  <tbody>\n",
              "    <tr>\n",
              "      <th>1</th>\n",
              "      <td>5725</td>\n",
              "      <td>1</td>\n",
              "      <td>0</td>\n",
              "      <td>0</td>\n",
              "      <td>50.4972</td>\n",
              "      <td>-4.2100</td>\n",
              "      <td>10.57</td>\n",
              "      <td>0</td>\n",
              "      <td>0</td>\n",
              "      <td>1</td>\n",
              "      <td>...</td>\n",
              "      <td>0</td>\n",
              "      <td>0</td>\n",
              "      <td>0</td>\n",
              "      <td>0</td>\n",
              "      <td>0</td>\n",
              "      <td>0</td>\n",
              "      <td>0</td>\n",
              "      <td>0</td>\n",
              "      <td>0</td>\n",
              "      <td>0</td>\n",
              "    </tr>\n",
              "    <tr>\n",
              "      <th>2</th>\n",
              "      <td>4343</td>\n",
              "      <td>2</td>\n",
              "      <td>0</td>\n",
              "      <td>0</td>\n",
              "      <td>31.7501</td>\n",
              "      <td>110.6807</td>\n",
              "      <td>13.49</td>\n",
              "      <td>0</td>\n",
              "      <td>0</td>\n",
              "      <td>1</td>\n",
              "      <td>...</td>\n",
              "      <td>0</td>\n",
              "      <td>0</td>\n",
              "      <td>0</td>\n",
              "      <td>0</td>\n",
              "      <td>0</td>\n",
              "      <td>0</td>\n",
              "      <td>0</td>\n",
              "      <td>0</td>\n",
              "      <td>0</td>\n",
              "      <td>0</td>\n",
              "    </tr>\n",
              "    <tr>\n",
              "      <th>3</th>\n",
              "      <td>6964</td>\n",
              "      <td>2</td>\n",
              "      <td>0</td>\n",
              "      <td>0</td>\n",
              "      <td>27.0087</td>\n",
              "      <td>88.4430</td>\n",
              "      <td>8.03</td>\n",
              "      <td>0</td>\n",
              "      <td>0</td>\n",
              "      <td>0</td>\n",
              "      <td>...</td>\n",
              "      <td>0</td>\n",
              "      <td>0</td>\n",
              "      <td>0</td>\n",
              "      <td>0</td>\n",
              "      <td>0</td>\n",
              "      <td>0</td>\n",
              "      <td>0</td>\n",
              "      <td>0</td>\n",
              "      <td>0</td>\n",
              "      <td>0</td>\n",
              "    </tr>\n",
              "    <tr>\n",
              "      <th>4</th>\n",
              "      <td>408</td>\n",
              "      <td>1</td>\n",
              "      <td>0</td>\n",
              "      <td>0</td>\n",
              "      <td>10.3904</td>\n",
              "      <td>124.9851</td>\n",
              "      <td>0.07</td>\n",
              "      <td>0</td>\n",
              "      <td>0</td>\n",
              "      <td>1</td>\n",
              "      <td>...</td>\n",
              "      <td>0</td>\n",
              "      <td>0</td>\n",
              "      <td>0</td>\n",
              "      <td>0</td>\n",
              "      <td>0</td>\n",
              "      <td>0</td>\n",
              "      <td>0</td>\n",
              "      <td>0</td>\n",
              "      <td>0</td>\n",
              "      <td>0</td>\n",
              "    </tr>\n",
              "    <tr>\n",
              "      <th>6</th>\n",
              "      <td>6628</td>\n",
              "      <td>2</td>\n",
              "      <td>0</td>\n",
              "      <td>0</td>\n",
              "      <td>46.9780</td>\n",
              "      <td>-123.7960</td>\n",
              "      <td>3.58</td>\n",
              "      <td>0</td>\n",
              "      <td>0</td>\n",
              "      <td>1</td>\n",
              "      <td>...</td>\n",
              "      <td>0</td>\n",
              "      <td>0</td>\n",
              "      <td>0</td>\n",
              "      <td>0</td>\n",
              "      <td>0</td>\n",
              "      <td>0</td>\n",
              "      <td>0</td>\n",
              "      <td>0</td>\n",
              "      <td>0</td>\n",
              "      <td>0</td>\n",
              "    </tr>\n",
              "    <tr>\n",
              "      <th>...</th>\n",
              "      <td>...</td>\n",
              "      <td>...</td>\n",
              "      <td>...</td>\n",
              "      <td>...</td>\n",
              "      <td>...</td>\n",
              "      <td>...</td>\n",
              "      <td>...</td>\n",
              "      <td>...</td>\n",
              "      <td>...</td>\n",
              "      <td>...</td>\n",
              "      <td>...</td>\n",
              "      <td>...</td>\n",
              "      <td>...</td>\n",
              "      <td>...</td>\n",
              "      <td>...</td>\n",
              "      <td>...</td>\n",
              "      <td>...</td>\n",
              "      <td>...</td>\n",
              "      <td>...</td>\n",
              "      <td>...</td>\n",
              "      <td>...</td>\n",
              "    </tr>\n",
              "    <tr>\n",
              "      <th>11330</th>\n",
              "      <td>4911</td>\n",
              "      <td>2</td>\n",
              "      <td>0</td>\n",
              "      <td>0</td>\n",
              "      <td>28.3952</td>\n",
              "      <td>83.5043</td>\n",
              "      <td>8.89</td>\n",
              "      <td>0</td>\n",
              "      <td>0</td>\n",
              "      <td>1</td>\n",
              "      <td>...</td>\n",
              "      <td>0</td>\n",
              "      <td>0</td>\n",
              "      <td>0</td>\n",
              "      <td>0</td>\n",
              "      <td>0</td>\n",
              "      <td>0</td>\n",
              "      <td>0</td>\n",
              "      <td>0</td>\n",
              "      <td>0</td>\n",
              "      <td>0</td>\n",
              "    </tr>\n",
              "    <tr>\n",
              "      <th>11331</th>\n",
              "      <td>2434</td>\n",
              "      <td>2</td>\n",
              "      <td>0</td>\n",
              "      <td>0</td>\n",
              "      <td>27.8808</td>\n",
              "      <td>83.3395</td>\n",
              "      <td>20.38</td>\n",
              "      <td>0</td>\n",
              "      <td>0</td>\n",
              "      <td>1</td>\n",
              "      <td>...</td>\n",
              "      <td>0</td>\n",
              "      <td>0</td>\n",
              "      <td>0</td>\n",
              "      <td>0</td>\n",
              "      <td>0</td>\n",
              "      <td>0</td>\n",
              "      <td>0</td>\n",
              "      <td>0</td>\n",
              "      <td>0</td>\n",
              "      <td>0</td>\n",
              "    </tr>\n",
              "    <tr>\n",
              "      <th>11332</th>\n",
              "      <td>1958</td>\n",
              "      <td>8</td>\n",
              "      <td>2</td>\n",
              "      <td>0</td>\n",
              "      <td>19.0176</td>\n",
              "      <td>72.8562</td>\n",
              "      <td>7.89</td>\n",
              "      <td>0</td>\n",
              "      <td>0</td>\n",
              "      <td>1</td>\n",
              "      <td>...</td>\n",
              "      <td>0</td>\n",
              "      <td>0</td>\n",
              "      <td>0</td>\n",
              "      <td>0</td>\n",
              "      <td>0</td>\n",
              "      <td>0</td>\n",
              "      <td>0</td>\n",
              "      <td>0</td>\n",
              "      <td>0</td>\n",
              "      <td>0</td>\n",
              "    </tr>\n",
              "    <tr>\n",
              "      <th>11333</th>\n",
              "      <td>2082</td>\n",
              "      <td>6</td>\n",
              "      <td>0</td>\n",
              "      <td>0</td>\n",
              "      <td>6.3665</td>\n",
              "      <td>124.7338</td>\n",
              "      <td>2.72</td>\n",
              "      <td>0</td>\n",
              "      <td>0</td>\n",
              "      <td>1</td>\n",
              "      <td>...</td>\n",
              "      <td>0</td>\n",
              "      <td>0</td>\n",
              "      <td>0</td>\n",
              "      <td>0</td>\n",
              "      <td>0</td>\n",
              "      <td>0</td>\n",
              "      <td>0</td>\n",
              "      <td>0</td>\n",
              "      <td>0</td>\n",
              "      <td>0</td>\n",
              "    </tr>\n",
              "    <tr>\n",
              "      <th>11334</th>\n",
              "      <td>1498</td>\n",
              "      <td>1</td>\n",
              "      <td>0</td>\n",
              "      <td>0</td>\n",
              "      <td>34.1510</td>\n",
              "      <td>74.1213</td>\n",
              "      <td>5.05</td>\n",
              "      <td>0</td>\n",
              "      <td>0</td>\n",
              "      <td>1</td>\n",
              "      <td>...</td>\n",
              "      <td>0</td>\n",
              "      <td>0</td>\n",
              "      <td>0</td>\n",
              "      <td>0</td>\n",
              "      <td>0</td>\n",
              "      <td>0</td>\n",
              "      <td>0</td>\n",
              "      <td>0</td>\n",
              "      <td>0</td>\n",
              "      <td>0</td>\n",
              "    </tr>\n",
              "  </tbody>\n",
              "</table>\n",
              "<p>6364 rows × 959 columns</p>\n",
              "</div>"
            ],
            "text/plain": [
              "      ev_id  ls_trig fatalities  injuries  latitude  longitude  gaz_dist  \\\n",
              "1      5725        1          0         0   50.4972    -4.2100     10.57   \n",
              "2      4343        2          0         0   31.7501   110.6807     13.49   \n",
              "3      6964        2          0         0   27.0087    88.4430      8.03   \n",
              "4       408        1          0         0   10.3904   124.9851      0.07   \n",
              "6      6628        2          0         0   46.9780  -123.7960      3.58   \n",
              "...     ...      ...        ...       ...       ...        ...       ...   \n",
              "11330  4911        2          0         0   28.3952    83.5043      8.89   \n",
              "11331  2434        2          0         0   27.8808    83.3395     20.38   \n",
              "11332  1958        8          2         0   19.0176    72.8562      7.89   \n",
              "11333  2082        6          0         0    6.3665   124.7338      2.72   \n",
              "11334  1498        1          0         0   34.1510    74.1213      5.05   \n",
              "\n",
              "       catastrophic  large  medium  ...  Zamboanga City  Zamboanga Sibuguey  \\\n",
              "1                 0      0       1  ...               0                   0   \n",
              "2                 0      0       1  ...               0                   0   \n",
              "3                 0      0       0  ...               0                   0   \n",
              "4                 0      0       1  ...               0                   0   \n",
              "6                 0      0       1  ...               0                   0   \n",
              "...             ...    ...     ...  ...             ...                 ...   \n",
              "11330             0      0       1  ...               0                   0   \n",
              "11331             0      0       1  ...               0                   0   \n",
              "11332             0      0       1  ...               0                   0   \n",
              "11333             0      0       1  ...               0                   0   \n",
              "11334             0      0       1  ...               0                   0   \n",
              "\n",
              "       Zamboanga del Norte  Zamboanga del Sur  Zamora-Chinchipe  Zhejiang  \\\n",
              "1                        0                  0                 0         0   \n",
              "2                        0                  0                 0         0   \n",
              "3                        0                  0                 0         0   \n",
              "4                        0                  0                 0         0   \n",
              "6                        0                  0                 0         0   \n",
              "...                    ...                ...               ...       ...   \n",
              "11330                    0                  0                 0         0   \n",
              "11331                    0                  0                 0         0   \n",
              "11332                    0                  0                 0         0   \n",
              "11333                    0                  0                 0         0   \n",
              "11334                    0                  0                 0         0   \n",
              "\n",
              "       Zlínsky  Ôita  Şan‘ā’  Şā‘dah  \n",
              "1            0     0       0       0  \n",
              "2            0     0       0       0  \n",
              "3            0     0       0       0  \n",
              "4            0     0       0       0  \n",
              "6            0     0       0       0  \n",
              "...        ...   ...     ...     ...  \n",
              "11330        0     0       0       0  \n",
              "11331        0     0       0       0  \n",
              "11332        0     0       0       0  \n",
              "11333        0     0       0       0  \n",
              "11334        0     0       0       0  \n",
              "\n",
              "[6364 rows x 959 columns]"
            ]
          },
          "execution_count": 23,
          "metadata": {},
          "output_type": "execute_result"
        }
      ],
      "source": [
        "df"
      ]
    },
    {
      "cell_type": "code",
      "execution_count": null,
      "id": "b80ec169",
      "metadata": {
        "id": "b80ec169"
      },
      "outputs": [],
      "source": [
        "df.to_csv('final.csv',header = True,index = False)"
      ]
    },
    {
      "cell_type": "code",
      "execution_count": null,
      "id": "50745f79",
      "metadata": {
        "id": "50745f79"
      },
      "outputs": [],
      "source": [
        "x = df.loc[:,df.columns != 'ls_trig']\n",
        "y = df.loc[:,'ls_trig']"
      ]
    },
    {
      "cell_type": "markdown",
      "source": [
        "## Splitting the data into testing and training data"
      ],
      "metadata": {
        "id": "LvPPTSP1fFYp"
      },
      "id": "LvPPTSP1fFYp"
    },
    {
      "cell_type": "code",
      "execution_count": null,
      "id": "578a2d53",
      "metadata": {
        "id": "578a2d53"
      },
      "outputs": [],
      "source": [
        "from sklearn.utils import shuffle\n",
        "from sklearn.model_selection import train_test_split\n",
        "import numpy as np"
      ]
    },
    {
      "cell_type": "code",
      "execution_count": null,
      "id": "3d871ccf",
      "metadata": {
        "id": "3d871ccf"
      },
      "outputs": [],
      "source": [
        "x, y = shuffle(x,y)\n",
        "\n",
        "x_train = []\n",
        "y_train = []\n",
        "x_test = []\n",
        "y_test = []\n",
        "\n",
        "x_train, x_test, y_train, y_test = train_test_split(x, y, test_size=0.2)"
      ]
    },
    {
      "cell_type": "code",
      "execution_count": null,
      "id": "5efa2aaf",
      "metadata": {
        "id": "5efa2aaf",
        "outputId": "7cd402e4-0f9b-4887-85b3-dd27deb282c2"
      },
      "outputs": [
        {
          "name": "stdout",
          "output_type": "stream",
          "text": [
            "(8951,)\n",
            "(8951, 1365)\n"
          ]
        }
      ],
      "source": [
        "print(y_train.shape)\n",
        "print(x_train.shape)"
      ]
    },
    {
      "cell_type": "code",
      "execution_count": null,
      "id": "62d7e30e",
      "metadata": {
        "id": "62d7e30e",
        "outputId": "e346066c-4750-4aef-e193-7bfa63b21a05"
      },
      "outputs": [
        {
          "name": "stdout",
          "output_type": "stream",
          "text": [
            "(2238, 1365)\n",
            "(2238,)\n"
          ]
        }
      ],
      "source": [
        "print(x_test.shape)\n",
        "print(y_test.shape)"
      ]
    },
    {
      "cell_type": "markdown",
      "source": [
        "# FEATURE SCALING"
      ],
      "metadata": {
        "id": "pJItPTftfTTs"
      },
      "id": "pJItPTftfTTs"
    },
    {
      "cell_type": "code",
      "execution_count": null,
      "id": "c7f7d1bb",
      "metadata": {
        "id": "c7f7d1bb"
      },
      "outputs": [],
      "source": [
        "from sklearn.preprocessing import StandardScaler\n",
        "sc = StandardScaler()\n",
        "x_train = sc.fit_transform(x_train)\n",
        "x_test = sc.transform(x_test)"
      ]
    },
    {
      "cell_type": "code",
      "execution_count": null,
      "id": "5232ee54",
      "metadata": {
        "id": "5232ee54"
      },
      "outputs": [],
      "source": [
        "from sklearn.svm import SVC\n",
        "from sklearn.metrics import accuracy_score\n",
        "scores=[]"
      ]
    },
    {
      "cell_type": "markdown",
      "source": [
        "# MODEL CONSTRUCTION"
      ],
      "metadata": {
        "id": "M2ZESG3bfZjy"
      },
      "id": "M2ZESG3bfZjy"
    },
    {
      "cell_type": "code",
      "execution_count": null,
      "id": "31cf6d47",
      "metadata": {
        "id": "31cf6d47",
        "outputId": "6d0c86c2-b8ff-4c7a-c893-4499afeacb69"
      },
      "outputs": [
        {
          "data": {
            "text/plain": [
              "SVC(kernel='linear')"
            ]
          },
          "execution_count": 22,
          "metadata": {},
          "output_type": "execute_result"
        }
      ],
      "source": [
        "clf = SVC(kernel='linear')\n",
        "clf.fit(x_train,y_train)"
      ]
    },
    {
      "cell_type": "code",
      "execution_count": null,
      "id": "c7408249",
      "metadata": {
        "id": "c7408249"
      },
      "outputs": [],
      "source": [
        "y_pred = clf.predict(x_test)\n",
        "scores.append(accuracy_score(y_test,y_pred))"
      ]
    },
    {
      "cell_type": "code",
      "execution_count": null,
      "id": "9f3e999d",
      "metadata": {
        "id": "9f3e999d",
        "outputId": "f498dd8b-4f04-4dc1-af72-c80bac0f58ed"
      },
      "outputs": [
        {
          "data": {
            "text/plain": [
              "LogisticRegression(max_iter=10000)"
            ]
          },
          "execution_count": 24,
          "metadata": {},
          "output_type": "execute_result"
        }
      ],
      "source": [
        "from sklearn.linear_model import LogisticRegression\n",
        "clf2 = LogisticRegression(solver='lbfgs',max_iter=10000)\n",
        "clf2.fit(x_train,y_train)"
      ]
    },
    {
      "cell_type": "code",
      "execution_count": null,
      "id": "992e2020",
      "metadata": {
        "id": "992e2020"
      },
      "outputs": [],
      "source": [
        "y_pred = clf2.predict(x_test)\n",
        "scores.append(accuracy_score(y_test,y_pred))"
      ]
    },
    {
      "cell_type": "code",
      "execution_count": null,
      "id": "1c284a50",
      "metadata": {
        "id": "1c284a50",
        "outputId": "d4680328-ed10-4a8f-981c-c14876657912"
      },
      "outputs": [
        {
          "data": {
            "text/plain": [
              "DecisionTreeClassifier()"
            ]
          },
          "execution_count": 26,
          "metadata": {},
          "output_type": "execute_result"
        }
      ],
      "source": [
        "from sklearn.tree import DecisionTreeClassifier\n",
        "clf3 = DecisionTreeClassifier()\n",
        "clf3.fit(x_train,y_train)"
      ]
    },
    {
      "cell_type": "code",
      "execution_count": null,
      "id": "805d9b18",
      "metadata": {
        "id": "805d9b18"
      },
      "outputs": [],
      "source": [
        "y_pred = clf3.predict(x_test)\n",
        "scores.append(accuracy_score(y_test,y_pred))"
      ]
    },
    {
      "cell_type": "code",
      "execution_count": null,
      "id": "b569d0c8",
      "metadata": {
        "id": "b569d0c8",
        "outputId": "44539ea0-2b13-4140-ff6e-4a261ea0af66"
      },
      "outputs": [
        {
          "data": {
            "text/plain": [
              "RandomForestClassifier(n_estimators=1000)"
            ]
          },
          "execution_count": 28,
          "metadata": {},
          "output_type": "execute_result"
        }
      ],
      "source": [
        "from sklearn.ensemble import RandomForestClassifier\n",
        "clf4 = RandomForestClassifier(n_estimators=1000)\n",
        "clf4.fit(x_train,y_train)"
      ]
    },
    {
      "cell_type": "code",
      "execution_count": null,
      "id": "043d0386",
      "metadata": {
        "id": "043d0386"
      },
      "outputs": [],
      "source": [
        "y_pred = clf4.predict(x_test)\n",
        "scores.append(accuracy_score(y_test,y_pred))"
      ]
    },
    {
      "cell_type": "code",
      "execution_count": null,
      "id": "e3101e91",
      "metadata": {
        "id": "e3101e91",
        "outputId": "942c4a1b-dfd8-4049-91ea-6772fac134e3"
      },
      "outputs": [
        {
          "data": {
            "text/plain": [
              "KNeighborsClassifier(n_neighbors=1)"
            ]
          },
          "execution_count": 30,
          "metadata": {},
          "output_type": "execute_result"
        }
      ],
      "source": [
        "from sklearn.neighbors import KNeighborsClassifier\n",
        "clf5 = KNeighborsClassifier(n_neighbors=1)\n",
        "clf5.fit(x_train,y_train)"
      ]
    },
    {
      "cell_type": "code",
      "execution_count": null,
      "id": "d055b05e",
      "metadata": {
        "id": "d055b05e"
      },
      "outputs": [],
      "source": [
        "y_pred = clf5.predict(x_test)\n",
        "scores.append(accuracy_score(y_test,y_pred))"
      ]
    },
    {
      "cell_type": "code",
      "execution_count": null,
      "id": "3687921e",
      "metadata": {
        "id": "3687921e",
        "outputId": "dad267d4-8e28-425e-b1cc-bbc2521ff7d2"
      },
      "outputs": [
        {
          "data": {
            "text/plain": [
              "GaussianNB()"
            ]
          },
          "execution_count": 32,
          "metadata": {},
          "output_type": "execute_result"
        }
      ],
      "source": [
        "from sklearn.naive_bayes import GaussianNB\n",
        "clf6 = GaussianNB()\n",
        "clf6.fit(x_train,y_train)"
      ]
    },
    {
      "cell_type": "code",
      "execution_count": null,
      "id": "17b26abe",
      "metadata": {
        "id": "17b26abe"
      },
      "outputs": [],
      "source": [
        "y_pred = clf5.predict(x_test)\n",
        "scores.append(accuracy_score(y_test,y_pred))"
      ]
    },
    {
      "cell_type": "markdown",
      "source": [
        "# MODEL EVALUATION"
      ],
      "metadata": {
        "id": "Cf3b4mJbfeK6"
      },
      "id": "Cf3b4mJbfeK6"
    },
    {
      "cell_type": "code",
      "execution_count": null,
      "id": "7ecc62d2",
      "metadata": {
        "id": "7ecc62d2",
        "outputId": "843b8fd2-7396-4e56-b314-932248a28637"
      },
      "outputs": [
        {
          "data": {
            "text/plain": [
              "[0.7153708668453976,\n",
              " 0.707774798927614,\n",
              " 0.6559428060768543,\n",
              " 0.7278820375335121,\n",
              " 0.6362823949955317,\n",
              " 0.6362823949955317]"
            ]
          },
          "execution_count": 34,
          "metadata": {},
          "output_type": "execute_result"
        }
      ],
      "source": [
        "scores"
      ]
    },
    {
      "cell_type": "code",
      "execution_count": null,
      "id": "3b3ab443",
      "metadata": {
        "id": "3b3ab443"
      },
      "outputs": [],
      "source": [
        "import matplotlib.pyplot as plt\n",
        "import seaborn as sns\n",
        "names=[\"SVM\",\"Logistic Regression\",\"Decision Tree\",\"Random Forest\",\"K Nearest Neighbors\",\"Gaussian Naive Bayes\"]"
      ]
    },
    {
      "cell_type": "code",
      "execution_count": null,
      "id": "baec8b49",
      "metadata": {
        "id": "baec8b49"
      },
      "outputs": [],
      "source": [
        "df = pd.DataFrame()\n",
        "df['Algorithm_name'] = names\n",
        "df['Accuracy_score'] = scores"
      ]
    },
    {
      "cell_type": "code",
      "execution_count": null,
      "id": "dc9fc3aa",
      "metadata": {
        "id": "dc9fc3aa",
        "outputId": "35ef372e-25c0-4108-b1e1-b9cb0c2b5245"
      },
      "outputs": [
        {
          "data": {
            "text/html": [
              "<div>\n",
              "<style scoped>\n",
              "    .dataframe tbody tr th:only-of-type {\n",
              "        vertical-align: middle;\n",
              "    }\n",
              "\n",
              "    .dataframe tbody tr th {\n",
              "        vertical-align: top;\n",
              "    }\n",
              "\n",
              "    .dataframe thead th {\n",
              "        text-align: right;\n",
              "    }\n",
              "</style>\n",
              "<table border=\"1\" class=\"dataframe\">\n",
              "  <thead>\n",
              "    <tr style=\"text-align: right;\">\n",
              "      <th></th>\n",
              "      <th>Algorithm_name</th>\n",
              "      <th>Accuracy_score</th>\n",
              "    </tr>\n",
              "  </thead>\n",
              "  <tbody>\n",
              "    <tr>\n",
              "      <th>0</th>\n",
              "      <td>SVM</td>\n",
              "      <td>0.715371</td>\n",
              "    </tr>\n",
              "    <tr>\n",
              "      <th>1</th>\n",
              "      <td>Logistic Regression</td>\n",
              "      <td>0.707775</td>\n",
              "    </tr>\n",
              "    <tr>\n",
              "      <th>2</th>\n",
              "      <td>Decision Tree</td>\n",
              "      <td>0.655943</td>\n",
              "    </tr>\n",
              "    <tr>\n",
              "      <th>3</th>\n",
              "      <td>Random Forest</td>\n",
              "      <td>0.727882</td>\n",
              "    </tr>\n",
              "    <tr>\n",
              "      <th>4</th>\n",
              "      <td>K Nearest Neighbors</td>\n",
              "      <td>0.636282</td>\n",
              "    </tr>\n",
              "    <tr>\n",
              "      <th>5</th>\n",
              "      <td>Gaussian Naive Bayes</td>\n",
              "      <td>0.636282</td>\n",
              "    </tr>\n",
              "  </tbody>\n",
              "</table>\n",
              "</div>"
            ],
            "text/plain": [
              "         Algorithm_name  Accuracy_score\n",
              "0                   SVM        0.715371\n",
              "1   Logistic Regression        0.707775\n",
              "2         Decision Tree        0.655943\n",
              "3         Random Forest        0.727882\n",
              "4   K Nearest Neighbors        0.636282\n",
              "5  Gaussian Naive Bayes        0.636282"
            ]
          },
          "execution_count": 55,
          "metadata": {},
          "output_type": "execute_result"
        }
      ],
      "source": [
        "df"
      ]
    },
    {
      "cell_type": "code",
      "execution_count": null,
      "id": "04f45d4d",
      "metadata": {
        "id": "04f45d4d",
        "outputId": "e285b9d9-5449-4bfa-b414-01b2f5b3ce5b"
      },
      "outputs": [
        {
          "data": {
            "text/html": [
              "<style type=\"text/css\">\n",
              "#T_a8202_row0_col1 {\n",
              "  background-color: #1f8f1f;\n",
              "  color: #f1f1f1;\n",
              "}\n",
              "#T_a8202_row1_col1 {\n",
              "  background-color: #349934;\n",
              "  color: #f1f1f1;\n",
              "}\n",
              "#T_a8202_row2_col1 {\n",
              "  background-color: #b9dbb9;\n",
              "  color: #000000;\n",
              "}\n",
              "#T_a8202_row3_col1 {\n",
              "  background-color: #008000;\n",
              "  color: #f1f1f1;\n",
              "}\n",
              "#T_a8202_row4_col1, #T_a8202_row5_col1 {\n",
              "  background-color: #ebf3eb;\n",
              "  color: #000000;\n",
              "}\n",
              "</style>\n",
              "<table id=\"T_a8202_\">\n",
              "  <thead>\n",
              "    <tr>\n",
              "      <th class=\"blank level0\" >&nbsp;</th>\n",
              "      <th class=\"col_heading level0 col0\" >Algorithm_name</th>\n",
              "      <th class=\"col_heading level0 col1\" >Accuracy_score</th>\n",
              "    </tr>\n",
              "  </thead>\n",
              "  <tbody>\n",
              "    <tr>\n",
              "      <th id=\"T_a8202_level0_row0\" class=\"row_heading level0 row0\" >0</th>\n",
              "      <td id=\"T_a8202_row0_col0\" class=\"data row0 col0\" >SVM</td>\n",
              "      <td id=\"T_a8202_row0_col1\" class=\"data row0 col1\" >0.715371</td>\n",
              "    </tr>\n",
              "    <tr>\n",
              "      <th id=\"T_a8202_level0_row1\" class=\"row_heading level0 row1\" >1</th>\n",
              "      <td id=\"T_a8202_row1_col0\" class=\"data row1 col0\" >Logistic Regression</td>\n",
              "      <td id=\"T_a8202_row1_col1\" class=\"data row1 col1\" >0.707775</td>\n",
              "    </tr>\n",
              "    <tr>\n",
              "      <th id=\"T_a8202_level0_row2\" class=\"row_heading level0 row2\" >2</th>\n",
              "      <td id=\"T_a8202_row2_col0\" class=\"data row2 col0\" >Decision Tree</td>\n",
              "      <td id=\"T_a8202_row2_col1\" class=\"data row2 col1\" >0.655943</td>\n",
              "    </tr>\n",
              "    <tr>\n",
              "      <th id=\"T_a8202_level0_row3\" class=\"row_heading level0 row3\" >3</th>\n",
              "      <td id=\"T_a8202_row3_col0\" class=\"data row3 col0\" >Random Forest</td>\n",
              "      <td id=\"T_a8202_row3_col1\" class=\"data row3 col1\" >0.727882</td>\n",
              "    </tr>\n",
              "    <tr>\n",
              "      <th id=\"T_a8202_level0_row4\" class=\"row_heading level0 row4\" >4</th>\n",
              "      <td id=\"T_a8202_row4_col0\" class=\"data row4 col0\" >K Nearest Neighbors</td>\n",
              "      <td id=\"T_a8202_row4_col1\" class=\"data row4 col1\" >0.636282</td>\n",
              "    </tr>\n",
              "    <tr>\n",
              "      <th id=\"T_a8202_level0_row5\" class=\"row_heading level0 row5\" >5</th>\n",
              "      <td id=\"T_a8202_row5_col0\" class=\"data row5 col0\" >Gaussian Naive Bayes</td>\n",
              "      <td id=\"T_a8202_row5_col1\" class=\"data row5 col1\" >0.636282</td>\n",
              "    </tr>\n",
              "  </tbody>\n",
              "</table>\n"
            ],
            "text/plain": [
              "<pandas.io.formats.style.Styler at 0x18a85c8c190>"
            ]
          },
          "execution_count": 56,
          "metadata": {},
          "output_type": "execute_result"
        }
      ],
      "source": [
        "cm = sns.light_palette(\"green\", as_cmap=True)\n",
        "s = df.style.background_gradient(cmap=cm)\n",
        "s"
      ]
    },
    {
      "cell_type": "code",
      "execution_count": null,
      "id": "1982ee1d",
      "metadata": {
        "id": "1982ee1d",
        "outputId": "f9d638cb-0596-430d-c9c3-7bd1b0ba325b"
      },
      "outputs": [
        {
          "data": {
            "image/png": "[encoded data removed]",
            "text/plain": [
              "<Figure size 432x288 with 1 Axes>"
            ]
          },
          "metadata": {},
          "output_type": "display_data"
        }
      ],
      "source": [
        "sns.set(style=\"whitegrid\",palette=\"bright\")\n",
        "ax = sns.barplot(y=\"Algorithm_name\", x=\"Accuracy_score\", data=df)"
      ]
    },
    {
      "cell_type": "markdown",
      "source": [
        "# RESULTS"
      ],
      "metadata": {
        "id": "Yybt4BoRflIn"
      },
      "id": "Yybt4BoRflIn"
    },
    {
      "cell_type": "code",
      "execution_count": null,
      "id": "406e4e56",
      "metadata": {
        "id": "406e4e56"
      },
      "outputs": [],
      "source": [
        "y_pred = clf3.predict(x_test)"
      ]
    },
    {
      "cell_type": "code",
      "execution_count": null,
      "id": "13e4fc07",
      "metadata": {
        "id": "13e4fc07",
        "outputId": "4fc336a7-9ccb-4af1-9182-80d703346cf4"
      },
      "outputs": [
        {
          "data": {
            "image/png": "[encoded data removed]",
            "text/plain": [
              "<Figure size 432x288 with 1 Axes>"
            ]
          },
          "metadata": {
            "needs_background": "light"
          },
          "output_type": "display_data"
        }
      ],
      "source": [
        "plt.hist(y_pred)\n",
        "plt.show()"
      ]
    },
    {
      "cell_type": "code",
      "execution_count": null,
      "id": "0b914608",
      "metadata": {
        "id": "0b914608"
      },
      "outputs": [],
      "source": [
        "dfrep = pd.DataFrame(y_pred, columns = ['ls_trig'])"
      ]
    },
    {
      "cell_type": "code",
      "execution_count": null,
      "id": "3fdd72a8",
      "metadata": {
        "id": "3fdd72a8"
      },
      "outputs": [],
      "source": [
        "dfrep = dfrep.replace({\"ls_trig\" : new_map})"
      ]
    },
    {
      "cell_type": "code",
      "execution_count": null,
      "id": "a7bc30fd",
      "metadata": {
        "id": "a7bc30fd",
        "outputId": "d22720d7-5435-4a3c-f939-c3adc646237d"
      },
      "outputs": [
        {
          "data": {
            "text/html": [
              "<div>\n",
              "<style scoped>\n",
              "    .dataframe tbody tr th:only-of-type {\n",
              "        vertical-align: middle;\n",
              "    }\n",
              "\n",
              "    .dataframe tbody tr th {\n",
              "        vertical-align: top;\n",
              "    }\n",
              "\n",
              "    .dataframe thead th {\n",
              "        text-align: right;\n",
              "    }\n",
              "</style>\n",
              "<table border=\"1\" class=\"dataframe\">\n",
              "  <thead>\n",
              "    <tr style=\"text-align: right;\">\n",
              "      <th></th>\n",
              "      <th>ls_trig</th>\n",
              "    </tr>\n",
              "  </thead>\n",
              "  <tbody>\n",
              "    <tr>\n",
              "      <th>0</th>\n",
              "      <td>downpour</td>\n",
              "    </tr>\n",
              "    <tr>\n",
              "      <th>1</th>\n",
              "      <td>downpour</td>\n",
              "    </tr>\n",
              "    <tr>\n",
              "      <th>2</th>\n",
              "      <td>downpour</td>\n",
              "    </tr>\n",
              "    <tr>\n",
              "      <th>3</th>\n",
              "      <td>rain</td>\n",
              "    </tr>\n",
              "    <tr>\n",
              "      <th>4</th>\n",
              "      <td>continuous_rain</td>\n",
              "    </tr>\n",
              "    <tr>\n",
              "      <th>...</th>\n",
              "      <td>...</td>\n",
              "    </tr>\n",
              "    <tr>\n",
              "      <th>1268</th>\n",
              "      <td>continuous_rain</td>\n",
              "    </tr>\n",
              "    <tr>\n",
              "      <th>1269</th>\n",
              "      <td>earthquake</td>\n",
              "    </tr>\n",
              "    <tr>\n",
              "      <th>1270</th>\n",
              "      <td>rain</td>\n",
              "    </tr>\n",
              "    <tr>\n",
              "      <th>1271</th>\n",
              "      <td>downpour</td>\n",
              "    </tr>\n",
              "    <tr>\n",
              "      <th>1272</th>\n",
              "      <td>downpour</td>\n",
              "    </tr>\n",
              "  </tbody>\n",
              "</table>\n",
              "<p>1273 rows × 1 columns</p>\n",
              "</div>"
            ],
            "text/plain": [
              "              ls_trig\n",
              "0            downpour\n",
              "1            downpour\n",
              "2            downpour\n",
              "3                rain\n",
              "4     continuous_rain\n",
              "...               ...\n",
              "1268  continuous_rain\n",
              "1269       earthquake\n",
              "1270             rain\n",
              "1271         downpour\n",
              "1272         downpour\n",
              "\n",
              "[1273 rows x 1 columns]"
            ]
          },
          "execution_count": 41,
          "metadata": {},
          "output_type": "execute_result"
        }
      ],
      "source": [
        "dfrep"
      ]
    },
    {
      "cell_type": "code",
      "execution_count": null,
      "id": "82805063",
      "metadata": {
        "id": "82805063",
        "outputId": "fbc53c3e-bca4-4ada-93d1-af0e8bd3864b"
      },
      "outputs": [
        {
          "data": {
            "text/plain": [
              "[<matplotlib.lines.Line2D at 0x21b17b12610>]"
            ]
          },
          "execution_count": 100,
          "metadata": {},
          "output_type": "execute_result"
        },
        {
          "data": {
            "image/png": "[encoded data removed]",
            "text/plain": [
              "<Figure size 1440x720 with 1 Axes>"
            ]
          },
          "metadata": {
            "needs_background": "light"
          },
          "output_type": "display_data"
        }
      ],
      "source": [
        "plt.rcParams[\"figure.figsize\"] = [20.00, 10.00]\n",
        "plt.plot(dfrep['ls_trig'].value_counts())"
      ]
    },
    {
      "cell_type": "code",
      "execution_count": null,
      "id": "b22b62d5",
      "metadata": {
        "id": "b22b62d5"
      },
      "outputs": [],
      "source": [
        "df_count = dfrep['ls_trig'].value_counts()"
      ]
    },
    {
      "cell_type": "code",
      "execution_count": null,
      "id": "a2f69c38",
      "metadata": {
        "id": "a2f69c38",
        "outputId": "31be5587-3a98-4f49-f196-80ee7977d3b1"
      },
      "outputs": [
        {
          "data": {
            "text/plain": [
              "Index(['downpour', 'rain', 'continuous_rain', 'tropical_cyclone',\n",
              "       'snowfall_snowmelt', 'monsoon', 'mining', 'earthquake',\n",
              "       'no_apparent_trigger', 'flooding', 'construction', 'freeze_thaw',\n",
              "       'leaking_pipe'],\n",
              "      dtype='object')"
            ]
          },
          "execution_count": 61,
          "metadata": {},
          "output_type": "execute_result"
        }
      ],
      "source": [
        "df_count.keys()"
      ]
    },
    {
      "cell_type": "code",
      "execution_count": null,
      "id": "fcbafbff",
      "metadata": {
        "id": "fcbafbff",
        "outputId": "295018d9-ba46-4a32-9b1e-c34c2b6ecf0e"
      },
      "outputs": [
        {
          "data": {
            "image/png": "[encoded data removed]",
            "text/plain": [
              "<Figure size 936x936 with 1 Axes>"
            ]
          },
          "metadata": {},
          "output_type": "display_data"
        }
      ],
      "source": [
        "plt.rcParams[\"figure.figsize\"] = [13.00, 13.00]\n",
        "colors = sns.color_palette('pastel')[0:5]\n",
        "plt.pie(df_count, labels = df_count.keys(), colors = colors, autopct='%.0f%%')\n",
        "plt.show()"
      ]
    }
  ],
  "metadata": {
    "kernelspec": {
      "display_name": "Python 3 (ipykernel)",
      "language": "python",
      "name": "python3"
    },
    "language_info": {
      "codemirror_mode": {
        "name": "ipython",
        "version": 3
      },
      "file_extension": ".py",
      "mimetype": "text/x-python",
      "name": "python",
      "nbconvert_exporter": "python",
      "pygments_lexer": "ipython3",
      "version": "3.8.4"
    },
    "colab": {
      "name": "Landslides.ipynb",
      "provenance": [],
      "collapsed_sections": [],
      "include_colab_link": true
    }
  },
  "nbformat": 4,
  "nbformat_minor": 5
}